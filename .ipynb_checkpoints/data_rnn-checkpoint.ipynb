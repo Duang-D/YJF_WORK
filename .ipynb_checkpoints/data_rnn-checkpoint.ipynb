{
 "cells": [
  {
   "cell_type": "code",
   "execution_count": 165,
   "metadata": {},
   "outputs": [],
   "source": [
    "import  numpy as np\n",
    "import  torch\n",
    "import  torch.nn as nn\n",
    "import  torch.optim as optim\n",
    "from    matplotlib import pyplot as plt\n",
    "import pandas as pd\n",
    "from tqdm.notebook import tqdm as tqdm\n",
    "import random\n",
    "def set_seed(seed=42):\n",
    "    random.seed(seed)\n",
    "    np.random.seed(seed)\n",
    "    torch.manual_seed(seed)\n",
    "    torch.cuda.manual_seed_all(seed)\n",
    "    torch.backends.cudnn.deterministic = True"
   ]
  },
  {
   "cell_type": "code",
   "execution_count": 166,
   "metadata": {},
   "outputs": [],
   "source": [
    "input_size = 4\n",
    "hidden_size = 64\n",
    "output_size = 1\n",
    "lr=0.001"
   ]
  },
  {
   "cell_type": "code",
   "execution_count": 167,
   "metadata": {},
   "outputs": [
    {
     "data": {
      "text/html": [
       "<div>\n",
       "<style scoped>\n",
       "    .dataframe tbody tr th:only-of-type {\n",
       "        vertical-align: middle;\n",
       "    }\n",
       "\n",
       "    .dataframe tbody tr th {\n",
       "        vertical-align: top;\n",
       "    }\n",
       "\n",
       "    .dataframe thead th {\n",
       "        text-align: right;\n",
       "    }\n",
       "</style>\n",
       "<table border=\"1\" class=\"dataframe\">\n",
       "  <thead>\n",
       "    <tr style=\"text-align: right;\">\n",
       "      <th></th>\n",
       "      <th>status</th>\n",
       "      <th>payment</th>\n",
       "      <th>year-month-day</th>\n",
       "      <th>year-month</th>\n",
       "    </tr>\n",
       "  </thead>\n",
       "  <tbody>\n",
       "    <tr>\n",
       "      <th>0</th>\n",
       "      <td>6</td>\n",
       "      <td>3350.0</td>\n",
       "      <td>2020-01-01</td>\n",
       "      <td>2020-01</td>\n",
       "    </tr>\n",
       "    <tr>\n",
       "      <th>1</th>\n",
       "      <td>6</td>\n",
       "      <td>2090.0</td>\n",
       "      <td>2020-01-01</td>\n",
       "      <td>2020-01</td>\n",
       "    </tr>\n",
       "    <tr>\n",
       "      <th>2</th>\n",
       "      <td>6</td>\n",
       "      <td>3590.0</td>\n",
       "      <td>2020-01-01</td>\n",
       "      <td>2020-01</td>\n",
       "    </tr>\n",
       "    <tr>\n",
       "      <th>3</th>\n",
       "      <td>6</td>\n",
       "      <td>3290.0</td>\n",
       "      <td>2020-01-01</td>\n",
       "      <td>2020-01</td>\n",
       "    </tr>\n",
       "    <tr>\n",
       "      <th>4</th>\n",
       "      <td>6</td>\n",
       "      <td>3090.0</td>\n",
       "      <td>2020-01-01</td>\n",
       "      <td>2020-01</td>\n",
       "    </tr>\n",
       "  </tbody>\n",
       "</table>\n",
       "</div>"
      ],
      "text/plain": [
       "   status  payment year-month-day year-month\n",
       "0       6   3350.0     2020-01-01    2020-01\n",
       "1       6   2090.0     2020-01-01    2020-01\n",
       "2       6   3590.0     2020-01-01    2020-01\n",
       "3       6   3290.0     2020-01-01    2020-01\n",
       "4       6   3090.0     2020-01-01    2020-01"
      ]
     },
     "execution_count": 167,
     "metadata": {},
     "output_type": "execute_result"
    }
   ],
   "source": [
    "data = pd.read_csv('data1.csv',encoding='utf-8')\n",
    "date = data['take_at'].str.split(' ').str[0]\n",
    "data['year-month-day']=date\n",
    "data['year-month'] = date.str.split('-').str[0]+'-'+date.str.split('-').str[1]\n",
    "data_last = data[['status','payment','year-month-day','year-month']]\n",
    "data_last=data_last[data_last['status']==6]\n",
    "data_last.head()"
   ]
  },
  {
   "cell_type": "code",
   "execution_count": 168,
   "metadata": {},
   "outputs": [
    {
     "name": "stdout",
     "output_type": "stream",
     "text": [
      "天数：547天\n",
      "周数：78周\n"
     ]
    }
   ],
   "source": [
    "data_day = data_last.groupby('year-month-day')\n",
    "# 每一天的GMV数据(status=6)\n",
    "day_ = list(data_day)\n",
    "gmv_day= []\n",
    "for i in range(len(list(data_day))):\n",
    "    gmv_1=day_[i][1]['payment'].sum()\n",
    "    gmv_day.append(gmv_1)\n",
    "print(f'天数：{len(gmv_day)}天')\n",
    "    \n",
    "# 由于一共547天,不是7的整数倍，所以取到前546天的数据作为周的数据来源\n",
    "gmv_week=[]\n",
    "m,n=0,0\n",
    "for i in range(len(gmv_day)):\n",
    "    m+=gmv_day[i]\n",
    "    n+=1\n",
    "    if n%7==0:\n",
    "        gmv_week.append(m)\n",
    "        n=0\n",
    "        m=0\n",
    "print(f'周数：{len(gmv_week)}周')\n"
   ]
  },
  {
   "cell_type": "code",
   "execution_count": 227,
   "metadata": {},
   "outputs": [
    {
     "name": "stdout",
     "output_type": "stream",
     "text": [
      "训练集的周gmv最大值是：235778339.27999997\n",
      "74\n",
      "74\n",
      "[[0.18625629 0.1231477  0.12798655 0.072953  ]\n",
      " [0.1231477  0.12798655 0.06717697 0.06838171]\n",
      " [0.12798655 0.06717697 0.0625772  0.13334199]\n",
      " [0.06717697 0.0625772  0.12794221 0.18272052]\n",
      " [0.0625772  0.12794221 0.17762841 0.1228812 ]\n",
      " [0.12794221 0.17762841 0.11741624 0.08714091]\n",
      " [0.17762841 0.11741624 0.08145327 0.28135274]\n",
      " [0.11741624 0.08145327 0.27687516 0.06471294]\n",
      " [0.08145327 0.27687516 0.05888557 0.06316523]\n",
      " [0.27687516 0.05888557 0.05732822 0.02489737]\n",
      " [0.05888557 0.05732822 0.01882192 0.06315001]\n",
      " [0.05732822 0.01882192 0.0573129  0.03742457]\n",
      " [0.01882192 0.0573129  0.03142717 0.11198612]\n",
      " [0.0573129  0.03142717 0.10645328 0.06984555]\n",
      " [0.03142717 0.10645328 0.06405015 0.17709275]\n",
      " [0.10645328 0.06405015 0.17196557 0.10467575]\n",
      " [0.06405015 0.17196557 0.09909736 0.08908417]\n",
      " [0.17196557 0.09909736 0.08340865 0.10279297]\n",
      " [0.09909736 0.08340865 0.09720286 0.44845354]\n",
      " [0.08340865 0.09720286 0.44501709 0.13583873]\n",
      " [0.09720286 0.44501709 0.13045451 0.41277467]\n",
      " [0.44501709 0.13045451 0.40911592 0.29544051]\n",
      " [0.13045451 0.40911592 0.2910507  0.07138973]\n",
      " [0.40911592 0.2910507  0.06560395 0.02097958]\n",
      " [0.2910507  0.06560395 0.01487972 0.05265993]\n",
      " [0.06560395 0.01487972 0.04675746 0.04088786]\n",
      " [0.01487972 0.04675746 0.03491205 0.04343805]\n",
      " [0.04675746 0.03491205 0.03747812 0.03236473]\n",
      " [0.03491205 0.03747812 0.02633581 0.06797017]\n",
      " [0.03747812 0.02633581 0.06216309 0.06235741]\n",
      " [0.02633581 0.06216309 0.05651536 0.11833272]\n",
      " [0.06216309 0.05651536 0.11283943 0.03216718]\n",
      " [0.05651536 0.11283943 0.02613703 0.02239908]\n",
      " [0.11283943 0.02613703 0.01630807 0.10605465]\n",
      " [0.02613703 0.01630807 0.10048486 0.04697179]\n",
      " [0.01630807 0.10048486 0.04103388 0.04555966]\n",
      " [0.10048486 0.04103388 0.03961295 0.05227736]\n",
      " [0.04103388 0.03961295 0.04637251 0.03061448]\n",
      " [0.03961295 0.04637251 0.02457465 0.00619199]\n",
      " [0.04637251 0.02457465 0.         0.92518227]\n",
      " [0.02457465 0.         0.92471611 1.        ]\n",
      " [0.         0.92471611 1.         0.44266062]\n",
      " [0.92471611 1.         0.43918807 0.66650207]\n",
      " [1.         0.43918807 0.66442419 0.01688579]\n",
      " [0.43918807 0.66442419 0.01076043 0.11660603]\n",
      " [0.66442419 0.01076043 0.11110198 0.01816489]\n",
      " [0.01076043 0.11110198 0.0120475  0.37348303]\n",
      " [0.11110198 0.0120475  0.36957947 0.10735028]\n",
      " [0.0120475  0.36957947 0.10178856 0.04826343]\n",
      " [0.36957947 0.10178856 0.04233357 0.0824082 ]\n",
      " [0.10178856 0.04233357 0.07669108 0.09101842]\n",
      " [0.04233357 0.07669108 0.08535494 0.05942595]\n",
      " [0.07669108 0.08535494 0.05356564 0.25647292]\n",
      " [0.08535494 0.05356564 0.25184033 0.12755053]\n",
      " [0.05356564 0.25184033 0.12211467 0.14027015]\n",
      " [0.25184033 0.12211467 0.13491354 0.0988987 ]\n",
      " [0.12211467 0.13491354 0.09328432 0.04833778]\n",
      " [0.13491354 0.09328432 0.04240838 0.11151726]\n",
      " [0.09328432 0.04240838 0.1059815  0.44414314]\n",
      " [0.04240838 0.1059815  0.44067983 0.04031132]\n",
      " [0.1059815  0.44067983 0.03433191 0.01606252]\n",
      " [0.44067983 0.03433191 0.00993203 0.07120757]\n",
      " [0.03433191 0.00993203 0.06542067 0.11390123]\n",
      " [0.00993203 0.06542067 0.10838033 0.2264323 ]\n",
      " [0.06542067 0.10838033 0.22161253 0.05692009]\n",
      " [0.10838033 0.22161253 0.05104416 0.05431392]\n",
      " [0.22161253 0.05104416 0.04842176 0.06585273]\n",
      " [0.05104416 0.04842176 0.06003246 0.06896446]\n",
      " [0.04842176 0.06003246 0.06316358 0.06614964]\n",
      " [0.06003246 0.06316358 0.06033122 0.25108657]\n",
      " [0.06316358 0.06033122 0.24642041 0.38412913]\n",
      " [0.06033122 0.24642041 0.3802919  0.20323127]\n",
      " [0.24642041 0.3802919  0.19826694 0.21088496]\n",
      " [0.3802919  0.19826694 0.20596832 0.39768551]]\n",
      "[0.1231477  0.12798655 0.06717697 0.0625772  0.12794221 0.17762841\n",
      " 0.11741624 0.08145327 0.27687516 0.05888557 0.05732822 0.01882192\n",
      " 0.0573129  0.03142717 0.10645328 0.06405015 0.17196557 0.09909736\n",
      " 0.08340865 0.09720286 0.44501709 0.13045451 0.40911592 0.2910507\n",
      " 0.06560395 0.01487972 0.04675746 0.03491205 0.03747812 0.02633581\n",
      " 0.06216309 0.05651536 0.11283943 0.02613703 0.01630807 0.10048486\n",
      " 0.04103388 0.03961295 0.04637251 0.02457465 0.         0.92471611\n",
      " 1.         0.43918807 0.66442419 0.01076043 0.11110198 0.0120475\n",
      " 0.36957947 0.10178856 0.04233357 0.07669108 0.08535494 0.05356564\n",
      " 0.25184033 0.12211467 0.13491354 0.09328432 0.04240838 0.1059815\n",
      " 0.44067983 0.03433191 0.00993203 0.06542067 0.10838033 0.22161253\n",
      " 0.05104416 0.04842176 0.06003246 0.06316358 0.06033122 0.24642041\n",
      " 0.3802919  0.19826694]\n"
     ]
    }
   ],
   "source": [
    "print(f'训练集的周gmv最大值是：{max(gmv_week[:52])}')\n",
    "mid_ = []\n",
    "x_data = []\n",
    "for i in range(len(gmv_week)):\n",
    "    if i>len(gmv_week)-4:\n",
    "        break\n",
    "    mid_.append(gmv_week[i])\n",
    "    mid_.append(gmv_week[i+1])\n",
    "    mid_.append(gmv_week[i+2])\n",
    "    mid_.append(gmv_week[i+3])\n",
    "    x_data.append(mid_)\n",
    "    mid_ = []\n",
    "from sklearn import preprocessing\n",
    "MinMaxScaler = preprocessing.MinMaxScaler()\n",
    "x_data=MinMaxScaler.fit_transform(x_data)\n",
    "# x_data = np.log(x_data)\n",
    "y_data=[x[0] for x in x_data][1:]\n",
    "x_data = x_data[:-1]\n",
    "print(len(x_data))\n",
    "print(len(y_data))\n",
    "print(np.array(x_data))\n",
    "print(np.array(y_data))"
   ]
  },
  {
   "cell_type": "code",
   "execution_count": 170,
   "metadata": {},
   "outputs": [],
   "source": [
    "class Net(nn.Module):\n",
    "    def __init__(self, ):\n",
    "        super(Net, self).__init__()\n",
    "\n",
    "        self.rnn = nn.RNN(\n",
    "            input_size=input_size,\n",
    "            hidden_size=hidden_size,\n",
    "            num_layers=1,\n",
    "            batch_first=True,\n",
    "        )\n",
    "        for p in self.rnn.parameters():\n",
    "            nn.init.normal_(p, mean=0.0, std=0.001)\n",
    "        \n",
    "        self.linear1 = nn.Linear(hidden_size, 128)\n",
    "        self.linear2 = nn.Linear(128, output_size)\n",
    "    def forward(self, x, hidden_prev):\n",
    "        out, hidden_prev = self.rnn(x, hidden_prev)\n",
    "       # [b, seq, h]\n",
    "        out = out.view(-1, hidden_size)\n",
    "        out = self.linear1(out)\n",
    "        out = self.linear2(out)\n",
    "        out = out.unsqueeze(dim=0)\n",
    "        return out, hidden_prev\n"
   ]
  },
  {
   "cell_type": "code",
   "execution_count": 183,
   "metadata": {
    "scrolled": true
   },
   "outputs": [
    {
     "name": "stdout",
     "output_type": "stream",
     "text": [
      "训练数据50条\n",
      "测试数据24条\n"
     ]
    }
   ],
   "source": [
    "# 构造训练数据\n",
    "x = torch.tensor(np.reshape(x_data, (1, len(x_data), 4)))\n",
    "y = torch.tensor(np.reshape(y_data, (1, len(x_data), 1)))\n",
    "x_train = x[:,:50,:]\n",
    "x_test = x[:,50:,:]\n",
    "y_train = y[:,:50,:]\n",
    "y_test = y[:,50:,:]\n",
    "print(f'训练数据{len(x_data[:50])}条')\n",
    "print(f'测试数据{len(x_data[50:])}条')"
   ]
  },
  {
   "cell_type": "code",
   "execution_count": 231,
   "metadata": {},
   "outputs": [
    {
     "name": "stdout",
     "output_type": "stream",
     "text": [
      "开始训练，训练集的数据长度是50\n"
     ]
    },
    {
     "data": {
      "application/vnd.jupyter.widget-view+json": {
       "model_id": "12815dcc23174a038e431d858fb5de94",
       "version_major": 2,
       "version_minor": 0
      },
      "text/plain": [
       "HBox(children=(FloatProgress(value=0.0, max=2000.0), HTML(value='')))"
      ]
     },
     "metadata": {},
     "output_type": "display_data"
    },
    {
     "name": "stdout",
     "output_type": "stream",
     "text": [
      "Iteration: 0 loss 0.12318037154797608\n",
      "Iteration: 100 loss 0.00012717889143988424\n",
      "Iteration: 200 loss 2.7766480928741285e-06\n",
      "Iteration: 300 loss 2.3219488153482537e-06\n",
      "Iteration: 400 loss 1.9208948192679085e-06\n",
      "Iteration: 500 loss 1.5471000325532172e-06\n",
      "Iteration: 600 loss 1.2024270051342456e-06\n",
      "Iteration: 700 loss 9.016620840746619e-07\n",
      "Iteration: 800 loss 6.525344881693209e-07\n",
      "Iteration: 900 loss 4.556675277491393e-07\n",
      "Iteration: 1000 loss 3.0754759232904146e-07\n",
      "Iteration: 1100 loss 2.0222481443943253e-07\n",
      "Iteration: 1200 loss 1.3195012087721612e-07\n",
      "Iteration: 1300 loss 8.805691200404632e-08\n",
      "Iteration: 1400 loss 6.23117796882928e-08\n",
      "Iteration: 1500 loss 4.804273595040857e-08\n",
      "Iteration: 1600 loss 4.0524505168538075e-08\n",
      "Iteration: 1700 loss 3.67330412798665e-08\n",
      "Iteration: 1800 loss 3.488290030573934e-08\n",
      "Iteration: 1900 loss 3.3987282607857e-08\n",
      "\n"
     ]
    }
   ],
   "source": [
    "set_seed(seed=42)\n",
    "print(f'开始训练，训练集的数据长度是{x_train.shape[1]}')\n",
    "# 定义模型\n",
    "model = Net()\n",
    "criterion = nn.MSELoss()\n",
    "optimizer = optim.Adam(model.parameters(), lr)\n",
    "hidden_prev = torch.ones(1, 1, hidden_size)\n",
    "for iter in tqdm(range(2000)):\n",
    "    x_train = torch.as_tensor(x_train, dtype=torch.float32)\n",
    "    output, hidden_prev = model(x_train, hidden_prev)\n",
    "    hidden_prev = hidden_prev.detach()\n",
    "    output = output.double()\n",
    "    loss = criterion(output, y_train)\n",
    "    model.zero_grad()\n",
    "    loss.backward()\n",
    "    optimizer.step()\n",
    "    if iter % 100 == 0:\n",
    "        print(\"Iteration: {} loss {}\".format(iter, loss.item()),end='\\n')"
   ]
  },
  {
   "cell_type": "code",
   "execution_count": 234,
   "metadata": {},
   "outputs": [
    {
     "name": "stdout",
     "output_type": "stream",
     "text": [
      "开始测试，测试集的数据长度是24\n",
      "test_loss 3.789853078204497e-08\n"
     ]
    }
   ],
   "source": [
    "# 测试集上loss\n",
    "print(f'开始测试，测试集的数据长度是{x_test.shape[1]}')\n",
    "pre_last=[]\n",
    "tru_last=[]\n",
    "with torch.no_grad():\n",
    "    for _ in range(1):\n",
    "        x_test = torch.as_tensor(x_test, dtype=torch.float32)\n",
    "        (pred1, hidden_prev) = model(x_test, hidden_prev)\n",
    "        pred1 = pred1.double()\n",
    "        loss1 = criterion(pred1, y_test)\n",
    "print(f\"test_loss {loss1.item()}\")\n",
    "\n",
    "for i ,j in zip(np.array(pred1[0]),np.array(y_test[0])):\n",
    "    pre_last.append(i[0]*235778339)\n",
    "    tru_last.append(j[0]*235778339)"
   ]
  },
  {
   "cell_type": "markdown",
   "metadata": {},
   "source": [
    "### 结果记录\n",
    "1000:test_loss 7.720046910337566e-08 \n",
    "\n",
    "2000:test_loss 3.789853078204497e-08"
   ]
  },
  {
   "cell_type": "code",
   "execution_count": 237,
   "metadata": {},
   "outputs": [
    {
     "name": "stdout",
     "output_type": "stream",
     "text": [
      "------周级别上rmse：45900.25421440089\n",
      "------周级别上mape：0.2854649770345436%\n",
      "------周级别上mape：[[0.77238435]\n",
      " [0.05883066]\n",
      " [0.09629189]\n",
      " [0.24180017]\n",
      " [0.10355684]\n",
      " [0.06417394]\n",
      " [0.0666201 ]\n",
      " [0.05223649]\n",
      " [0.04440473]\n",
      " [0.10166025]\n",
      " [0.09310065]\n",
      " [0.01302756]\n",
      " [3.87271613]\n",
      " [0.24978808]\n",
      " [0.01579057]\n",
      " [0.08563712]\n",
      " [0.16484641]\n",
      " [0.3683238 ]\n",
      " [0.01097015]\n",
      " [0.04714082]\n",
      " [0.03292135]\n",
      " [0.09708616]\n",
      " [0.10936409]\n",
      " [0.08848715]]%\n",
      "[9.90424477e+06 1.80927330e+07 2.01442255e+07 1.25990794e+07\n",
      " 5.94399841e+07 2.88104716e+07 3.17884998e+07 2.20059116e+07\n",
      " 1.00034185e+07 2.49627401e+07 1.03999493e+08 8.09366590e+06\n",
      " 2.25106777e+06 1.54633051e+07 2.55496979e+07 5.22961800e+07\n",
      " 1.20152678e+07 1.13747504e+07 1.41559068e+07 1.48996233e+07\n",
      " 1.42294768e+07 5.81570029e+07 8.97626528e+07 4.67884158e+07]\n",
      "[9.98133907e+06 1.80820952e+07 2.01248469e+07 1.26296178e+07\n",
      " 5.93784936e+07 2.87919947e+07 3.18096914e+07 2.19944225e+07\n",
      " 9.99897843e+06 2.49881431e+07 1.03902759e+08 8.09472044e+06\n",
      " 2.34175738e+06 1.54247758e+07 2.55537330e+07 5.22514334e+07\n",
      " 1.20351073e+07 1.14168012e+07 1.41543541e+07 1.48926028e+07\n",
      " 1.42247938e+07 5.81005953e+07 8.96645920e+07 4.67470507e+07]\n"
     ]
    },
    {
     "data": {
      "text/plain": [
       "'E:\\\\py_\\\\out_work\\\\YJF_jp_work\\\\rnn模型在测试集上预测结果.html'"
      ]
     },
     "execution_count": 237,
     "metadata": {},
     "output_type": "execute_result"
    }
   ],
   "source": [
    "from pyecharts.charts import Line\n",
    "from pyecharts import options as opts\n",
    "\n",
    "def mape(y_true, y_pred):\n",
    "    \"\"\"\n",
    "    参数:\n",
    "    y_true -- 测试集目标真实值\n",
    "    y_pred -- 测试集目标预测值\n",
    "    返回:\n",
    "    mape -- MAPE 评价指标\n",
    "    \"\"\"\n",
    "    n = len(y_true)\n",
    "    mape = sum(np.abs((y_true - y_pred)/y_true))/n*100\n",
    "    return mape\n",
    "\n",
    "print(f'------周级别上rmse：{np.sqrt(np.average((np.array(pre_last) - np.array(tru_last)) ** 2))}')\n",
    "print(f'------周级别上mape：{mape(np.array(tru_last),np.array(pre_last))}%')\n",
    "print(f'------周级别上mape：{mape(np.array(y_test),np.array(pred1))}%')\n",
    "\n",
    "print(np.array(pre_last))\n",
    "print(np.array(tru_last))\n",
    "\n",
    "\n",
    "\n",
    "year_num1 = tru_last\n",
    "year_num2 = pre_last\n",
    "def line_charts() -> Line:\n",
    "    line = (\n",
    "        Line()\n",
    "        .add_xaxis(range(len(year_num1)))\n",
    "        .add_yaxis(\n",
    "            \"真实值\",\n",
    "            year_num1\n",
    "        )\n",
    "        .add_yaxis(\n",
    "            \"预测值\",\n",
    "            year_num2\n",
    "        )\n",
    "        .set_global_opts(title_opts=opts.TitleOpts(title=\"rnn周gmv预测图\")\n",
    "                         ,yaxis_opts=opts.AxisOpts(name=\"GMV\")\n",
    "                         ,xaxis_opts=opts.AxisOpts(name=\"时间\"),)\n",
    "        .set_series_opts(\n",
    "            label_opts=opts.LabelOpts(is_show=False),) #\n",
    "    )\n",
    "    return line\n",
    "\n",
    "line = line_charts()\n",
    "line.render(\"rnn模型在测试集上预测结果.html\")"
   ]
  },
  {
   "cell_type": "code",
   "execution_count": null,
   "metadata": {},
   "outputs": [],
   "source": []
  },
  {
   "cell_type": "code",
   "execution_count": null,
   "metadata": {},
   "outputs": [],
   "source": []
  }
 ],
 "metadata": {
  "kernelspec": {
   "display_name": "Python 3",
   "language": "python",
   "name": "python3"
  },
  "language_info": {
   "codemirror_mode": {
    "name": "ipython",
    "version": 3
   },
   "file_extension": ".py",
   "mimetype": "text/x-python",
   "name": "python",
   "nbconvert_exporter": "python",
   "pygments_lexer": "ipython3",
   "version": "3.7.6"
  }
 },
 "nbformat": 4,
 "nbformat_minor": 4
}
