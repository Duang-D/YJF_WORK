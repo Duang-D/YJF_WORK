{
 "cells": [
  {
   "cell_type": "markdown",
   "metadata": {},
   "source": [
    "##############################################################\n",
    "# BG-NBD ve Gamma-Gamma ile CLTV Prediction\n",
    "##############################################################\n"
   ]
  },
  {
   "cell_type": "code",
   "execution_count": null,
   "metadata": {},
   "outputs": [],
   "source": [
    "import pandas as pd\n",
    "# 读取数据\n",
    "df = pd.read_csv('../data1.csv',encoding='utf-8')\n",
    "df_ = df.copy()\n",
    "df_.head()"
   ]
  },
  {
   "cell_type": "markdown",
   "metadata": {},
   "source": [
    "### 查看以‘C’开头的是否都是数量为负  (说明的确以‘C’开头的都是数量为负) 并且查看除了以“C”开头的数据，还有其他数量小于0的数据，简单看了一下这些数据都是价格为0，没有用户ID，是什么数据无法推断，这些数据要弃去"
   ]
  },
  {
   "cell_type": "code",
   "execution_count": null,
   "metadata": {},
   "outputs": [],
   "source": [
    "df_ = df_[['platform_open_id','status','payment','take_at']]\n",
    "df_=df_[df_['status']==6]\n",
    "df_=df_[df_['payment']>10]\n",
    "df_['Invoice']= df_.index\n",
    "date1 = df_['take_at'].str.split(' ').str[0]\n",
    "date2 = df_['take_at'].str.split(' ').str[1]\n",
    "time_1 = date1.str.split('-').str[0]+date1.str.split('-').str[1]+date1.str.split('-').str[2]\n",
    "time_2 = date2.str.split(':').str[0]+date2.str.split(':').str[1]+date2.str.split(':').str[2]\n",
    "df_['int_date'] = time_1 + time_2\n",
    "df_"
   ]
  },
  {
   "cell_type": "code",
   "execution_count": null,
   "metadata": {},
   "outputs": [],
   "source": [
    "pd.set_option('mode.chained_assignment', None)\n",
    "df_[\"int_date\"] = pd.to_numeric(df_[\"int_date\"])\n",
    "df_.sort_values(\"int_date\",inplace=True)\n",
    "# 检查缺失值\n",
    "print(df_.isna().sum())\n",
    "# 弃去缺失值\n",
    "df_.dropna(inplace=True)\n",
    "print(df_.isna().sum())\n",
    "df_"
   ]
  },
  {
   "cell_type": "code",
   "execution_count": null,
   "metadata": {},
   "outputs": [],
   "source": [
    "#数据中包含共?订单，?个用户\n",
    "df_.rename(columns={'platform_open_id':'Customer ID', 'payment': 'Sales','take_at':'InvoiceDate'}, inplace=True)\n",
    "df_ = df_[['Invoice','Customer ID','InvoiceDate','Sales']]\n",
    "# ### 更改用户ID类型\n",
    "df_['Customer ID'] = df_['Customer ID'].astype('object')\n",
    "df_['Invoice'] = df_['Invoice'].astype('object')\n",
    "df_['InvoiceDate']=pd.to_datetime(df_['InvoiceDate'])\n",
    "# df_.nunique()\n",
    "df_"
   ]
  },
  {
   "cell_type": "code",
   "execution_count": null,
   "metadata": {},
   "outputs": [],
   "source": [
    "# 看订单状态\n",
    "from collections import Counter\n",
    "df_1 = df_.groupby('Customer ID')['Customer ID'].count()\n",
    "Counter(df_1)"
   ]
  },
  {
   "cell_type": "code",
   "execution_count": null,
   "metadata": {},
   "outputs": [],
   "source": [
    "df_.info()"
   ]
  },
  {
   "cell_type": "markdown",
   "metadata": {},
   "source": [
    "### CLV建模探索"
   ]
  },
  {
   "cell_type": "code",
   "execution_count": null,
   "metadata": {},
   "outputs": [],
   "source": [
    "#频率为0说明只有一次购买。频率分布情况\n",
    "from lifetimes.utils import summary_data_from_transaction_data\n",
    "data = summary_data_from_transaction_data(df_, 'Customer ID', 'InvoiceDate',\n",
    "                         monetary_value_col='Sales',\n",
    "                         observation_period_end='2021-07-01')\n",
    "data.sort_values('monetary_value').head(-5)"
   ]
  },
  {
   "cell_type": "code",
   "execution_count": null,
   "metadata": {},
   "outputs": [],
   "source": [
    "data['frequency'].plot(kind='hist', bins=100)"
   ]
  },
  {
   "cell_type": "code",
   "execution_count": null,
   "metadata": {},
   "outputs": [],
   "source": [
    "# 说在周期内只消费过一次比例\n",
    "(data.frequency == 0).value_counts().plot.bar()"
   ]
  },
  {
   "cell_type": "code",
   "execution_count": null,
   "metadata": {},
   "outputs": [],
   "source": [
    "print(sum(data['frequency'] == 0))\n",
    "sum(data['frequency'] == 0)/float(len(data))"
   ]
  },
  {
   "cell_type": "markdown",
   "metadata": {},
   "source": [
    "### 使用BG / NBD模型进行频率/新近度分析"
   ]
  },
  {
   "cell_type": "code",
   "execution_count": null,
   "metadata": {},
   "outputs": [],
   "source": [
    "from lifetimes import BetaGeoFitter\n",
    "bgf = BetaGeoFitter(penalizer_coef=0.0)\n",
    "bgf.fit(data['frequency'], data['recency'], data['T'])\n",
    "print(bgf)"
   ]
  },
  {
   "cell_type": "code",
   "execution_count": null,
   "metadata": {},
   "outputs": [],
   "source": [
    "from lifetimes.plotting import plot_frequency_recency_matrix\n",
    "import matplotlib.pyplot as plt\n",
    "fig = plt.figure(figsize=(12,8))\n",
    "plot_frequency_recency_matrix(bgf)"
   ]
  },
  {
   "cell_type": "markdown",
   "metadata": {},
   "source": [
    "### 右下角的数据80/500，该用户进行了80次购买，并且他最近购买时间大约是500天（她的第一笔交易和她最近的交易之间的时间间隔），那么她属于最有价值客户，依照其消费惯性，将来也会进行多笔交易,右上角黑了的部分可能是已经失去,类似的客户20/500这样的数据，代表客户不经常来，最近没有见过他，所以他可能再次购买,最近购买的顾客应该还“活着”"
   ]
  },
  {
   "cell_type": "code",
   "execution_count": null,
   "metadata": {},
   "outputs": [],
   "source": [
    "# 预测哪些客户还在\n",
    "from lifetimes.plotting import plot_probability_alive_matrix\n",
    "fig = plt.figure(figsize=(12,8))\n",
    "plot_probability_alive_matrix(bgf)"
   ]
  },
  {
   "cell_type": "markdown",
   "metadata": {},
   "source": [
    "### 黄色部分为还在用户，深色部分为丢失用户。我们将客户从“下一期最高预期购买量”排名降至最低。模型公开了一种方法，该方法将使用其历史记录预测下一时期客户的预期购买："
   ]
  },
  {
   "cell_type": "code",
   "execution_count": null,
   "metadata": {},
   "outputs": [],
   "source": [
    "# t是时间 t为1是指接下来1天最后价值客户购买的概率以及其他信息\n",
    "t = 10\n",
    "data['predicted_purchases'] = bgf.conditional_expected_number_of_purchases_up_to_time(t, \n",
    "                                  data['frequency'], data['recency'], data['T'])\n",
    "#下面列出的是我们的前五大客户，模型的predict_purchases列给出了购买的概率\n",
    "data.sort_values(by='predicted_purchases', ascending=False).head()"
   ]
  },
  {
   "cell_type": "code",
   "execution_count": null,
   "metadata": {},
   "outputs": [],
   "source": [
    "from lifetimes.plotting import plot_period_transactions\n",
    "#如果结果相近，模型的预测那就不错\n",
    "plot_period_transactions(bgf)"
   ]
  },
  {
   "cell_type": "markdown",
   "metadata": {},
   "source": [
    "### 分数据集进行预测现在将数据集划分为校准周期数据集和保持数据集。这很重要，因为我们想要测试我们的模型如何对尚未看到的数据执行（就像机器学习实践中的交叉验证一样）"
   ]
  },
  {
   "cell_type": "code",
   "execution_count": null,
   "metadata": {},
   "outputs": [],
   "source": [
    "from lifetimes.utils import calibration_and_holdout_data\n",
    "summary_cal_holdout = calibration_and_holdout_data(df_, 'Customer ID', 'InvoiceDate',\n",
    "                                        calibration_period_end='2021-01-01',\n",
    "                                        observation_period_end='2021-06-30' )   \n",
    "summary_cal_holdout.head()"
   ]
  },
  {
   "cell_type": "markdown",
   "metadata": {},
   "source": [
    "### 客户交易预测:根据客户历史记录，我们现在可以预测个人未来的购买情况："
   ]
  },
  {
   "cell_type": "code",
   "execution_count": null,
   "metadata": {},
   "outputs": [],
   "source": [
    "# 预测't01MBW9zURdD5m6eQ83INBdXZq8qGekDqre2uZnHtcQpY8='用户未来10天内购买商品为概率(最忠诚客户)\n",
    "t = 10\n",
    "individual = data.loc['t01MBW9zURdD5m6eQ83INBdXZq8qGekDqre2uZnHtcQpY8=']\n",
    "bgf.predict(t, individual['frequency'], individual['recency'], individual['T'])"
   ]
  },
  {
   "cell_type": "markdown",
   "metadata": {},
   "source": [
    "### 客户概率历史根据客户交易历史记录，我们可以根据我们训练的模型计算其存活的历史概率。例如，我们想看看我们最好的客户的交易历史，看看活着的可能性："
   ]
  },
  {
   "cell_type": "code",
   "execution_count": null,
   "metadata": {},
   "outputs": [],
   "source": [
    "from lifetimes.plotting import plot_history_alive\n",
    "import matplotlib.pyplot as plt\n",
    "fig = plt.figure(figsize=(12,8))\n",
    "id = 't01MBW9zURdD5m6eQ83INBdXZq8qGekDqre2uZnHtcQpY8='\n",
    "days_since_birth = 365\n",
    "sp_trans = df_.loc[df_['Customer ID'] == id]\n",
    "plot_history_alive(bgf, days_since_birth, sp_trans, 'InvoiceDate')\n",
    "#  我们最好的客户't01MBW9zURdD5m6eQ83INBdXZq8qGekDqre2uZnHtcQpY8=' 是否还活着分析"
   ]
  },
  {
   "cell_type": "code",
   "execution_count": null,
   "metadata": {},
   "outputs": [],
   "source": [
    "fig = plt.figure(figsize=(12,8))\n",
    "id = '.01MPyjo2BxsrZa0sIQyVnAOM2DEMds1FAQI7fgfrP3PMg='\n",
    "days_since_birth = 365\n",
    "sp_trans = df_.loc[df_['Customer ID'] == id]\n",
    "plot_history_alive(bgf, days_since_birth, sp_trans, 'InvoiceDate')"
   ]
  },
  {
   "cell_type": "markdown",
   "metadata": {},
   "source": [
    "### 这位顾客来的频率不是很高但是分布还算均匀，最近也有消费，是‘活着’的用户"
   ]
  },
  {
   "cell_type": "markdown",
   "metadata": {},
   "source": [
    "### gamma-gamma模型估算客户终生价值我们仅估算至少有一次重复购买的客户。因此，我们估计有2,790位客户："
   ]
  },
  {
   "cell_type": "code",
   "execution_count": null,
   "metadata": {},
   "outputs": [],
   "source": [
    "# frequency>0 购买次数大于1的个数\n",
    "returning_customers_summary = data[data['frequency']>0]\n",
    "returning_customers_summary.shape[0]\n",
    "\n",
    "# 模型训练\n",
    "from lifetimes import GammaGammaFitter\n",
    "ggf = GammaGammaFitter(penalizer_coef = 0)\n",
    "ggf.fit(returning_customers_summary['frequency'],\n",
    "        returning_customers_summary['monetary_value'])\n",
    "\n",
    "# 这样我们可以估算每个客户的平均交易价值\n",
    "df_2= ggf.conditional_expected_average_profit(\n",
    "        data['frequency'],\n",
    "        data['monetary_value']\n",
    "    )\n",
    "Counter(list(df_2))"
   ]
  },
  {
   "cell_type": "code",
   "execution_count": null,
   "metadata": {},
   "outputs": [],
   "source": []
  },
  {
   "cell_type": "code",
   "execution_count": null,
   "metadata": {},
   "outputs": [],
   "source": []
  },
  {
   "cell_type": "code",
   "execution_count": null,
   "metadata": {},
   "outputs": [],
   "source": []
  },
  {
   "cell_type": "code",
   "execution_count": null,
   "metadata": {},
   "outputs": [],
   "source": []
  }
 ],
 "metadata": {
  "kernelspec": {
   "display_name": "Python 3",
   "language": "python",
   "name": "python3"
  },
  "language_info": {
   "codemirror_mode": {
    "name": "ipython",
    "version": 3
   },
   "file_extension": ".py",
   "mimetype": "text/x-python",
   "name": "python",
   "nbconvert_exporter": "python",
   "pygments_lexer": "ipython3",
   "version": "3.7.6"
  }
 },
 "nbformat": 4,
 "nbformat_minor": 4
}
