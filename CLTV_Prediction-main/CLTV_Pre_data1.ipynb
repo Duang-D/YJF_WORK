{
 "cells": [
  {
   "cell_type": "markdown",
   "metadata": {},
   "source": [
    "##############################################################\n",
    "# BG-NBD ve Gamma-Gamma ile CLTV Prediction\n",
    "##############################################################\n"
   ]
  },
  {
   "cell_type": "code",
   "execution_count": 42,
   "metadata": {},
   "outputs": [
    {
     "data": {
      "text/html": [
       "<div>\n",
       "<style scoped>\n",
       "    .dataframe tbody tr th:only-of-type {\n",
       "        vertical-align: middle;\n",
       "    }\n",
       "\n",
       "    .dataframe tbody tr th {\n",
       "        vertical-align: top;\n",
       "    }\n",
       "\n",
       "    .dataframe thead th {\n",
       "        text-align: right;\n",
       "    }\n",
       "</style>\n",
       "<table border=\"1\" class=\"dataframe\">\n",
       "  <thead>\n",
       "    <tr style=\"text-align: right;\">\n",
       "      <th></th>\n",
       "      <th>platform_open_id</th>\n",
       "      <th>goods_num</th>\n",
       "      <th>price</th>\n",
       "      <th>is_member</th>\n",
       "      <th>discount_fee</th>\n",
       "      <th>outer_id</th>\n",
       "      <th>take_at</th>\n",
       "      <th>status</th>\n",
       "      <th>payment</th>\n",
       "      <th>member_id</th>\n",
       "      <th>order_payment</th>\n",
       "      <th>total_fee</th>\n",
       "      <th>goods_id</th>\n",
       "    </tr>\n",
       "  </thead>\n",
       "  <tbody>\n",
       "    <tr>\n",
       "      <th>0</th>\n",
       "      <td>101ZX1xyfG/omvnxQPYI8YPFhoi2hfl26RoAPgzb9VqwG0=</td>\n",
       "      <td>1</td>\n",
       "      <td>3650.0</td>\n",
       "      <td>0</td>\n",
       "      <td>300.0</td>\n",
       "      <td>302945-01</td>\n",
       "      <td>2020-01-01 01:35:43</td>\n",
       "      <td>6</td>\n",
       "      <td>3350.0</td>\n",
       "      <td>0</td>\n",
       "      <td>3350.0</td>\n",
       "      <td>3350.0</td>\n",
       "      <td>520399672992</td>\n",
       "    </tr>\n",
       "    <tr>\n",
       "      <th>1</th>\n",
       "      <td>爱012Pr5yntLUcTKU0MtsjPGOs2DEMds1FAQI7fgfrP3PMg=</td>\n",
       "      <td>1</td>\n",
       "      <td>2690.0</td>\n",
       "      <td>0</td>\n",
       "      <td>600.0</td>\n",
       "      <td>227605-01</td>\n",
       "      <td>2020-01-01 08:55:17</td>\n",
       "      <td>6</td>\n",
       "      <td>2090.0</td>\n",
       "      <td>0</td>\n",
       "      <td>2090.0</td>\n",
       "      <td>2090.0</td>\n",
       "      <td>548452717637</td>\n",
       "    </tr>\n",
       "    <tr>\n",
       "      <th>2</th>\n",
       "      <td>朱01i4Rmip4x6V5VS/UZPBzc+Nnn6lnZ7cacExIx+8aylCY=</td>\n",
       "      <td>1</td>\n",
       "      <td>3990.0</td>\n",
       "      <td>1</td>\n",
       "      <td>400.0</td>\n",
       "      <td>226403-01</td>\n",
       "      <td>2020-01-01 09:48:35</td>\n",
       "      <td>6</td>\n",
       "      <td>3590.0</td>\n",
       "      <td>616297</td>\n",
       "      <td>3590.0</td>\n",
       "      <td>3590.0</td>\n",
       "      <td>564779472639</td>\n",
       "    </tr>\n",
       "    <tr>\n",
       "      <th>3</th>\n",
       "      <td>001bRbDk61o6cYW1XuaH8XgLgKHM0CMIQafAKaTQc17qGM=</td>\n",
       "      <td>1</td>\n",
       "      <td>3290.0</td>\n",
       "      <td>0</td>\n",
       "      <td>0.0</td>\n",
       "      <td>NaN</td>\n",
       "      <td>2020-01-01 09:56:04</td>\n",
       "      <td>6</td>\n",
       "      <td>3290.0</td>\n",
       "      <td>0</td>\n",
       "      <td>3290.0</td>\n",
       "      <td>3290.0</td>\n",
       "      <td>609664493135</td>\n",
       "    </tr>\n",
       "    <tr>\n",
       "      <th>4</th>\n",
       "      <td>t014Au7WHWPPI0OeT5DX13SQ5q8qGekDqre2uZnHtcQpY8=</td>\n",
       "      <td>1</td>\n",
       "      <td>3590.0</td>\n",
       "      <td>1</td>\n",
       "      <td>500.0</td>\n",
       "      <td>282846-01</td>\n",
       "      <td>2020-01-01 10:36:50</td>\n",
       "      <td>6</td>\n",
       "      <td>3090.0</td>\n",
       "      <td>220404</td>\n",
       "      <td>3090.0</td>\n",
       "      <td>3090.0</td>\n",
       "      <td>589083659427</td>\n",
       "    </tr>\n",
       "  </tbody>\n",
       "</table>\n",
       "</div>"
      ],
      "text/plain": [
       "                                  platform_open_id  goods_num   price  \\\n",
       "0  101ZX1xyfG/omvnxQPYI8YPFhoi2hfl26RoAPgzb9VqwG0=          1  3650.0   \n",
       "1  爱012Pr5yntLUcTKU0MtsjPGOs2DEMds1FAQI7fgfrP3PMg=          1  2690.0   \n",
       "2  朱01i4Rmip4x6V5VS/UZPBzc+Nnn6lnZ7cacExIx+8aylCY=          1  3990.0   \n",
       "3  001bRbDk61o6cYW1XuaH8XgLgKHM0CMIQafAKaTQc17qGM=          1  3290.0   \n",
       "4  t014Au7WHWPPI0OeT5DX13SQ5q8qGekDqre2uZnHtcQpY8=          1  3590.0   \n",
       "\n",
       "   is_member  discount_fee   outer_id              take_at  status  payment  \\\n",
       "0          0         300.0  302945-01  2020-01-01 01:35:43       6   3350.0   \n",
       "1          0         600.0  227605-01  2020-01-01 08:55:17       6   2090.0   \n",
       "2          1         400.0  226403-01  2020-01-01 09:48:35       6   3590.0   \n",
       "3          0           0.0        NaN  2020-01-01 09:56:04       6   3290.0   \n",
       "4          1         500.0  282846-01  2020-01-01 10:36:50       6   3090.0   \n",
       "\n",
       "   member_id  order_payment  total_fee      goods_id  \n",
       "0          0         3350.0     3350.0  520399672992  \n",
       "1          0         2090.0     2090.0  548452717637  \n",
       "2     616297         3590.0     3590.0  564779472639  \n",
       "3          0         3290.0     3290.0  609664493135  \n",
       "4     220404         3090.0     3090.0  589083659427  "
      ]
     },
     "execution_count": 42,
     "metadata": {},
     "output_type": "execute_result"
    }
   ],
   "source": [
    "import pandas as pd\n",
    "# 读取数据\n",
    "df = pd.read_csv('../data1.csv',encoding='utf-8')\n",
    "df_ = df.copy()\n",
    "df_.head()"
   ]
  },
  {
   "cell_type": "code",
   "execution_count": 43,
   "metadata": {},
   "outputs": [
    {
     "name": "stdout",
     "output_type": "stream",
     "text": [
      "True\n"
     ]
    }
   ],
   "source": [
    "import numpy as np\n",
    "a='234'\n",
    "c='56'\n",
    "a=a+c\n",
    "b='23456'\n",
    "print(np.all(a==b))"
   ]
  },
  {
   "cell_type": "markdown",
   "metadata": {},
   "source": [
    "### 简单看了一下这些数据都是价格为0，没有用户ID，是什么数据无法推断，这些数据要弃去"
   ]
  },
  {
   "cell_type": "code",
   "execution_count": 44,
   "metadata": {},
   "outputs": [
    {
     "data": {
      "text/html": [
       "<div>\n",
       "<style scoped>\n",
       "    .dataframe tbody tr th:only-of-type {\n",
       "        vertical-align: middle;\n",
       "    }\n",
       "\n",
       "    .dataframe tbody tr th {\n",
       "        vertical-align: top;\n",
       "    }\n",
       "\n",
       "    .dataframe thead th {\n",
       "        text-align: right;\n",
       "    }\n",
       "</style>\n",
       "<table border=\"1\" class=\"dataframe\">\n",
       "  <thead>\n",
       "    <tr style=\"text-align: right;\">\n",
       "      <th></th>\n",
       "      <th>platform_open_id</th>\n",
       "      <th>status</th>\n",
       "      <th>payment</th>\n",
       "      <th>take_at</th>\n",
       "      <th>Invoice</th>\n",
       "      <th>year-month-day</th>\n",
       "    </tr>\n",
       "  </thead>\n",
       "  <tbody>\n",
       "    <tr>\n",
       "      <th>0</th>\n",
       "      <td>101ZX1xyfG/omvnxQPYI8YPFhoi2hfl26RoAPgzb9VqwG0=</td>\n",
       "      <td>6</td>\n",
       "      <td>3350.0</td>\n",
       "      <td>2020-01-01 01:35:43</td>\n",
       "      <td>0</td>\n",
       "      <td>20200101</td>\n",
       "    </tr>\n",
       "    <tr>\n",
       "      <th>1</th>\n",
       "      <td>爱012Pr5yntLUcTKU0MtsjPGOs2DEMds1FAQI7fgfrP3PMg=</td>\n",
       "      <td>6</td>\n",
       "      <td>2090.0</td>\n",
       "      <td>2020-01-01 08:55:17</td>\n",
       "      <td>1</td>\n",
       "      <td>20200101</td>\n",
       "    </tr>\n",
       "    <tr>\n",
       "      <th>2</th>\n",
       "      <td>朱01i4Rmip4x6V5VS/UZPBzc+Nnn6lnZ7cacExIx+8aylCY=</td>\n",
       "      <td>6</td>\n",
       "      <td>3590.0</td>\n",
       "      <td>2020-01-01 09:48:35</td>\n",
       "      <td>2</td>\n",
       "      <td>20200101</td>\n",
       "    </tr>\n",
       "    <tr>\n",
       "      <th>3</th>\n",
       "      <td>001bRbDk61o6cYW1XuaH8XgLgKHM0CMIQafAKaTQc17qGM=</td>\n",
       "      <td>6</td>\n",
       "      <td>3290.0</td>\n",
       "      <td>2020-01-01 09:56:04</td>\n",
       "      <td>3</td>\n",
       "      <td>20200101</td>\n",
       "    </tr>\n",
       "    <tr>\n",
       "      <th>4</th>\n",
       "      <td>t014Au7WHWPPI0OeT5DX13SQ5q8qGekDqre2uZnHtcQpY8=</td>\n",
       "      <td>6</td>\n",
       "      <td>3090.0</td>\n",
       "      <td>2020-01-01 10:36:50</td>\n",
       "      <td>4</td>\n",
       "      <td>20200101</td>\n",
       "    </tr>\n",
       "    <tr>\n",
       "      <th>...</th>\n",
       "      <td>...</td>\n",
       "      <td>...</td>\n",
       "      <td>...</td>\n",
       "      <td>...</td>\n",
       "      <td>...</td>\n",
       "      <td>...</td>\n",
       "    </tr>\n",
       "    <tr>\n",
       "      <th>2076736</th>\n",
       "      <td>n01InRhxxuOhWe4BzurCg5ladnn6lnZ7cacExIx+8aylCY=</td>\n",
       "      <td>6</td>\n",
       "      <td>100.0</td>\n",
       "      <td>2021-06-26 11:02:07</td>\n",
       "      <td>2076736</td>\n",
       "      <td>20210626</td>\n",
       "    </tr>\n",
       "    <tr>\n",
       "      <th>2076739</th>\n",
       "      <td>p014nKE7F9VesBvrOcH9wtHE2dHwSigfMMQPj0dkBAC8Vk=</td>\n",
       "      <td>6</td>\n",
       "      <td>2990.0</td>\n",
       "      <td>2021-06-26 23:59:02</td>\n",
       "      <td>2076739</td>\n",
       "      <td>20210626</td>\n",
       "    </tr>\n",
       "    <tr>\n",
       "      <th>2076745</th>\n",
       "      <td>丹012kb+XmIwcJ9PSqOBWY8vwtnn6lnZ7cacExIx+8aylCY=</td>\n",
       "      <td>6</td>\n",
       "      <td>3790.0</td>\n",
       "      <td>2021-06-28 18:43:34</td>\n",
       "      <td>2076745</td>\n",
       "      <td>20210628</td>\n",
       "    </tr>\n",
       "    <tr>\n",
       "      <th>2076747</th>\n",
       "      <td>y0185UIrrcxFSaqgoR0BIGAJgKHM0CMIQafAKaTQc17qGM=</td>\n",
       "      <td>6</td>\n",
       "      <td>2990.0</td>\n",
       "      <td>2021-06-29 08:40:37</td>\n",
       "      <td>2076747</td>\n",
       "      <td>20210629</td>\n",
       "    </tr>\n",
       "    <tr>\n",
       "      <th>2076754</th>\n",
       "      <td>s01UIMAjdTSuJUkbH7RQ33urgKHM0CMIQafAKaTQc17qGM=</td>\n",
       "      <td>6</td>\n",
       "      <td>3990.0</td>\n",
       "      <td>2021-06-30 19:57:36</td>\n",
       "      <td>2076754</td>\n",
       "      <td>20210630</td>\n",
       "    </tr>\n",
       "  </tbody>\n",
       "</table>\n",
       "<p>1073073 rows × 6 columns</p>\n",
       "</div>"
      ],
      "text/plain": [
       "                                        platform_open_id  status  payment  \\\n",
       "0        101ZX1xyfG/omvnxQPYI8YPFhoi2hfl26RoAPgzb9VqwG0=       6   3350.0   \n",
       "1        爱012Pr5yntLUcTKU0MtsjPGOs2DEMds1FAQI7fgfrP3PMg=       6   2090.0   \n",
       "2        朱01i4Rmip4x6V5VS/UZPBzc+Nnn6lnZ7cacExIx+8aylCY=       6   3590.0   \n",
       "3        001bRbDk61o6cYW1XuaH8XgLgKHM0CMIQafAKaTQc17qGM=       6   3290.0   \n",
       "4        t014Au7WHWPPI0OeT5DX13SQ5q8qGekDqre2uZnHtcQpY8=       6   3090.0   \n",
       "...                                                  ...     ...      ...   \n",
       "2076736  n01InRhxxuOhWe4BzurCg5ladnn6lnZ7cacExIx+8aylCY=       6    100.0   \n",
       "2076739  p014nKE7F9VesBvrOcH9wtHE2dHwSigfMMQPj0dkBAC8Vk=       6   2990.0   \n",
       "2076745  丹012kb+XmIwcJ9PSqOBWY8vwtnn6lnZ7cacExIx+8aylCY=       6   3790.0   \n",
       "2076747  y0185UIrrcxFSaqgoR0BIGAJgKHM0CMIQafAKaTQc17qGM=       6   2990.0   \n",
       "2076754  s01UIMAjdTSuJUkbH7RQ33urgKHM0CMIQafAKaTQc17qGM=       6   3990.0   \n",
       "\n",
       "                     take_at  Invoice year-month-day  \n",
       "0        2020-01-01 01:35:43        0       20200101  \n",
       "1        2020-01-01 08:55:17        1       20200101  \n",
       "2        2020-01-01 09:48:35        2       20200101  \n",
       "3        2020-01-01 09:56:04        3       20200101  \n",
       "4        2020-01-01 10:36:50        4       20200101  \n",
       "...                      ...      ...            ...  \n",
       "2076736  2021-06-26 11:02:07  2076736       20210626  \n",
       "2076739  2021-06-26 23:59:02  2076739       20210626  \n",
       "2076745  2021-06-28 18:43:34  2076745       20210628  \n",
       "2076747  2021-06-29 08:40:37  2076747       20210629  \n",
       "2076754  2021-06-30 19:57:36  2076754       20210630  \n",
       "\n",
       "[1073073 rows x 6 columns]"
      ]
     },
     "execution_count": 44,
     "metadata": {},
     "output_type": "execute_result"
    }
   ],
   "source": [
    "df_ = df_[['platform_open_id','status','payment','take_at']]\n",
    "df_=df_[df_['status']==6]\n",
    "df_=df_[df_['payment']>10]\n",
    "df_['Invoice']= df_.index\n",
    "date1 = df_['take_at'].str.split(' ').str[0]\n",
    "time_1 = date1.str.split('-').str[0]+date1.str.split('-').str[1]+date1.str.split('-').str[2]\n",
    "df_['year-month-day'] = time_1\n",
    "df_"
   ]
  },
  {
   "cell_type": "code",
   "execution_count": 45,
   "metadata": {},
   "outputs": [
    {
     "data": {
      "text/plain": [
       "53"
      ]
     },
     "execution_count": 45,
     "metadata": {},
     "output_type": "execute_result"
    }
   ],
   "source": [
    "# 验证下面frequency是指购买商品的天数t01MBW9zURdD5m6eQ83INBdXZq8qGekDqre2uZnHtcQpY8=\n",
    "\n",
    "df_['year-month-day']=pd.to_datetime(df_['year-month-day'])\n",
    "test =df_[(df_['year-month-day'] >=pd.to_datetime('20210101')) & (df_['year-month-day'] <= pd.to_datetime('20210630'))]\n",
    "df_2 = test[test['platform_open_id']=='h01Vi4HXwDYGN3gmT3aqIrVoAKHM0CMIQafAKaTQc17qGM=']\n",
    "# df_2 = df_[df_['platform_open_id']=='t01MBW9zURdD5m6eQ83INBdXZq8qGekDqre2uZnHtcQpY8=']\n",
    "df_2['date'] = df_2['take_at'].str.split(' ').str[0]\n",
    "len(list(set(list(df_2['date']))))"
   ]
  },
  {
   "cell_type": "code",
   "execution_count": 5,
   "metadata": {},
   "outputs": [
    {
     "name": "stdout",
     "output_type": "stream",
     "text": [
      "platform_open_id    45\n",
      "status               0\n",
      "payment              0\n",
      "take_at              0\n",
      "Invoice              0\n",
      "year-month-day       0\n",
      "dtype: int64\n",
      "platform_open_id    0\n",
      "status              0\n",
      "payment             0\n",
      "take_at             0\n",
      "Invoice             0\n",
      "year-month-day      0\n",
      "dtype: int64\n"
     ]
    }
   ],
   "source": [
    "# pd.set_option('mode.chained_assignment', None)\n",
    "# df_[\"int_date\"] = pd.to_numeric(df_[\"int_date\"])\n",
    "# df_.sort_values(\"int_date\",inplace=True)\n",
    "# 检查缺失值\n",
    "print(df_.isna().sum())\n",
    "# 弃去缺失值\n",
    "df_.dropna(inplace=True)\n",
    "print(df_.isna().sum())\n"
   ]
  },
  {
   "cell_type": "code",
   "execution_count": 6,
   "metadata": {},
   "outputs": [
    {
     "name": "stderr",
     "output_type": "stream",
     "text": [
      "C:\\Users\\Administrator\\anaconda3\\lib\\site-packages\\ipykernel_launcher.py:5: SettingWithCopyWarning: \n",
      "A value is trying to be set on a copy of a slice from a DataFrame.\n",
      "Try using .loc[row_indexer,col_indexer] = value instead\n",
      "\n",
      "See the caveats in the documentation: https://pandas.pydata.org/pandas-docs/stable/user_guide/indexing.html#returning-a-view-versus-a-copy\n",
      "  \"\"\"\n",
      "C:\\Users\\Administrator\\anaconda3\\lib\\site-packages\\ipykernel_launcher.py:6: SettingWithCopyWarning: \n",
      "A value is trying to be set on a copy of a slice from a DataFrame.\n",
      "Try using .loc[row_indexer,col_indexer] = value instead\n",
      "\n",
      "See the caveats in the documentation: https://pandas.pydata.org/pandas-docs/stable/user_guide/indexing.html#returning-a-view-versus-a-copy\n",
      "  \n",
      "C:\\Users\\Administrator\\anaconda3\\lib\\site-packages\\ipykernel_launcher.py:7: SettingWithCopyWarning: \n",
      "A value is trying to be set on a copy of a slice from a DataFrame.\n",
      "Try using .loc[row_indexer,col_indexer] = value instead\n",
      "\n",
      "See the caveats in the documentation: https://pandas.pydata.org/pandas-docs/stable/user_guide/indexing.html#returning-a-view-versus-a-copy\n",
      "  import sys\n"
     ]
    },
    {
     "data": {
      "text/html": [
       "<div>\n",
       "<style scoped>\n",
       "    .dataframe tbody tr th:only-of-type {\n",
       "        vertical-align: middle;\n",
       "    }\n",
       "\n",
       "    .dataframe tbody tr th {\n",
       "        vertical-align: top;\n",
       "    }\n",
       "\n",
       "    .dataframe thead th {\n",
       "        text-align: right;\n",
       "    }\n",
       "</style>\n",
       "<table border=\"1\" class=\"dataframe\">\n",
       "  <thead>\n",
       "    <tr style=\"text-align: right;\">\n",
       "      <th></th>\n",
       "      <th>Invoice</th>\n",
       "      <th>Customer ID</th>\n",
       "      <th>InvoiceDate</th>\n",
       "      <th>Sales</th>\n",
       "    </tr>\n",
       "  </thead>\n",
       "  <tbody>\n",
       "    <tr>\n",
       "      <th>0</th>\n",
       "      <td>0</td>\n",
       "      <td>101ZX1xyfG/omvnxQPYI8YPFhoi2hfl26RoAPgzb9VqwG0=</td>\n",
       "      <td>2020-01-01 01:35:43</td>\n",
       "      <td>3350.0</td>\n",
       "    </tr>\n",
       "    <tr>\n",
       "      <th>1</th>\n",
       "      <td>1</td>\n",
       "      <td>爱012Pr5yntLUcTKU0MtsjPGOs2DEMds1FAQI7fgfrP3PMg=</td>\n",
       "      <td>2020-01-01 08:55:17</td>\n",
       "      <td>2090.0</td>\n",
       "    </tr>\n",
       "    <tr>\n",
       "      <th>2</th>\n",
       "      <td>2</td>\n",
       "      <td>朱01i4Rmip4x6V5VS/UZPBzc+Nnn6lnZ7cacExIx+8aylCY=</td>\n",
       "      <td>2020-01-01 09:48:35</td>\n",
       "      <td>3590.0</td>\n",
       "    </tr>\n",
       "    <tr>\n",
       "      <th>3</th>\n",
       "      <td>3</td>\n",
       "      <td>001bRbDk61o6cYW1XuaH8XgLgKHM0CMIQafAKaTQc17qGM=</td>\n",
       "      <td>2020-01-01 09:56:04</td>\n",
       "      <td>3290.0</td>\n",
       "    </tr>\n",
       "    <tr>\n",
       "      <th>4</th>\n",
       "      <td>4</td>\n",
       "      <td>t014Au7WHWPPI0OeT5DX13SQ5q8qGekDqre2uZnHtcQpY8=</td>\n",
       "      <td>2020-01-01 10:36:50</td>\n",
       "      <td>3090.0</td>\n",
       "    </tr>\n",
       "    <tr>\n",
       "      <th>...</th>\n",
       "      <td>...</td>\n",
       "      <td>...</td>\n",
       "      <td>...</td>\n",
       "      <td>...</td>\n",
       "    </tr>\n",
       "    <tr>\n",
       "      <th>2076736</th>\n",
       "      <td>2076736</td>\n",
       "      <td>n01InRhxxuOhWe4BzurCg5ladnn6lnZ7cacExIx+8aylCY=</td>\n",
       "      <td>2021-06-26 11:02:07</td>\n",
       "      <td>100.0</td>\n",
       "    </tr>\n",
       "    <tr>\n",
       "      <th>2076739</th>\n",
       "      <td>2076739</td>\n",
       "      <td>p014nKE7F9VesBvrOcH9wtHE2dHwSigfMMQPj0dkBAC8Vk=</td>\n",
       "      <td>2021-06-26 23:59:02</td>\n",
       "      <td>2990.0</td>\n",
       "    </tr>\n",
       "    <tr>\n",
       "      <th>2076745</th>\n",
       "      <td>2076745</td>\n",
       "      <td>丹012kb+XmIwcJ9PSqOBWY8vwtnn6lnZ7cacExIx+8aylCY=</td>\n",
       "      <td>2021-06-28 18:43:34</td>\n",
       "      <td>3790.0</td>\n",
       "    </tr>\n",
       "    <tr>\n",
       "      <th>2076747</th>\n",
       "      <td>2076747</td>\n",
       "      <td>y0185UIrrcxFSaqgoR0BIGAJgKHM0CMIQafAKaTQc17qGM=</td>\n",
       "      <td>2021-06-29 08:40:37</td>\n",
       "      <td>2990.0</td>\n",
       "    </tr>\n",
       "    <tr>\n",
       "      <th>2076754</th>\n",
       "      <td>2076754</td>\n",
       "      <td>s01UIMAjdTSuJUkbH7RQ33urgKHM0CMIQafAKaTQc17qGM=</td>\n",
       "      <td>2021-06-30 19:57:36</td>\n",
       "      <td>3990.0</td>\n",
       "    </tr>\n",
       "  </tbody>\n",
       "</table>\n",
       "<p>1073028 rows × 4 columns</p>\n",
       "</div>"
      ],
      "text/plain": [
       "         Invoice                                      Customer ID  \\\n",
       "0              0  101ZX1xyfG/omvnxQPYI8YPFhoi2hfl26RoAPgzb9VqwG0=   \n",
       "1              1  爱012Pr5yntLUcTKU0MtsjPGOs2DEMds1FAQI7fgfrP3PMg=   \n",
       "2              2  朱01i4Rmip4x6V5VS/UZPBzc+Nnn6lnZ7cacExIx+8aylCY=   \n",
       "3              3  001bRbDk61o6cYW1XuaH8XgLgKHM0CMIQafAKaTQc17qGM=   \n",
       "4              4  t014Au7WHWPPI0OeT5DX13SQ5q8qGekDqre2uZnHtcQpY8=   \n",
       "...          ...                                              ...   \n",
       "2076736  2076736  n01InRhxxuOhWe4BzurCg5ladnn6lnZ7cacExIx+8aylCY=   \n",
       "2076739  2076739  p014nKE7F9VesBvrOcH9wtHE2dHwSigfMMQPj0dkBAC8Vk=   \n",
       "2076745  2076745  丹012kb+XmIwcJ9PSqOBWY8vwtnn6lnZ7cacExIx+8aylCY=   \n",
       "2076747  2076747  y0185UIrrcxFSaqgoR0BIGAJgKHM0CMIQafAKaTQc17qGM=   \n",
       "2076754  2076754  s01UIMAjdTSuJUkbH7RQ33urgKHM0CMIQafAKaTQc17qGM=   \n",
       "\n",
       "                InvoiceDate   Sales  \n",
       "0       2020-01-01 01:35:43  3350.0  \n",
       "1       2020-01-01 08:55:17  2090.0  \n",
       "2       2020-01-01 09:48:35  3590.0  \n",
       "3       2020-01-01 09:56:04  3290.0  \n",
       "4       2020-01-01 10:36:50  3090.0  \n",
       "...                     ...     ...  \n",
       "2076736 2021-06-26 11:02:07   100.0  \n",
       "2076739 2021-06-26 23:59:02  2990.0  \n",
       "2076745 2021-06-28 18:43:34  3790.0  \n",
       "2076747 2021-06-29 08:40:37  2990.0  \n",
       "2076754 2021-06-30 19:57:36  3990.0  \n",
       "\n",
       "[1073028 rows x 4 columns]"
      ]
     },
     "execution_count": 6,
     "metadata": {},
     "output_type": "execute_result"
    }
   ],
   "source": [
    "#数据中包含共?订单，?个用户\n",
    "df_.rename(columns={'platform_open_id':'Customer ID', 'payment': 'Sales','take_at':'InvoiceDate'}, inplace=True)\n",
    "df_ = df_[['Invoice','Customer ID','InvoiceDate','Sales']]\n",
    "# ### 更改用户ID类型\n",
    "df_['Customer ID'] = df_['Customer ID'].astype('object')\n",
    "df_['Invoice'] = df_['Invoice'].astype('object')\n",
    "df_['InvoiceDate']=pd.to_datetime(df_['InvoiceDate'])\n",
    "# df_.nunique()\n",
    "df_"
   ]
  },
  {
   "cell_type": "code",
   "execution_count": 7,
   "metadata": {},
   "outputs": [
    {
     "data": {
      "text/plain": [
       "Counter({1: 858194,\n",
       "         2: 78227,\n",
       "         3: 12116,\n",
       "         5: 875,\n",
       "         4: 2997,\n",
       "         6: 376,\n",
       "         9: 49,\n",
       "         7: 137,\n",
       "         8: 81,\n",
       "         21: 2,\n",
       "         10: 34,\n",
       "         14: 7,\n",
       "         11: 16,\n",
       "         13: 7,\n",
       "         31: 2,\n",
       "         20: 3,\n",
       "         12: 11,\n",
       "         130: 1,\n",
       "         19: 2,\n",
       "         15: 2,\n",
       "         42: 1,\n",
       "         78: 1,\n",
       "         23: 2})"
      ]
     },
     "execution_count": 7,
     "metadata": {},
     "output_type": "execute_result"
    }
   ],
   "source": [
    "# 看订单状态\n",
    "from collections import Counter\n",
    "df_1 = df_.groupby('Customer ID')['Customer ID'].count()\n",
    "Counter(df_1)"
   ]
  },
  {
   "cell_type": "code",
   "execution_count": 8,
   "metadata": {},
   "outputs": [
    {
     "name": "stdout",
     "output_type": "stream",
     "text": [
      "<class 'pandas.core.frame.DataFrame'>\n",
      "Int64Index: 1073028 entries, 0 to 2076754\n",
      "Data columns (total 4 columns):\n",
      " #   Column       Non-Null Count    Dtype         \n",
      "---  ------       --------------    -----         \n",
      " 0   Invoice      1073028 non-null  object        \n",
      " 1   Customer ID  1073028 non-null  object        \n",
      " 2   InvoiceDate  1073028 non-null  datetime64[ns]\n",
      " 3   Sales        1073028 non-null  float64       \n",
      "dtypes: datetime64[ns](1), float64(1), object(2)\n",
      "memory usage: 40.9+ MB\n",
      "总人数: 953143\n"
     ]
    }
   ],
   "source": [
    "df_.info()\n",
    "print('总人数:',len(list(set(list(df_['Customer ID'])))))"
   ]
  },
  {
   "cell_type": "markdown",
   "metadata": {},
   "source": [
    "### CLV建模探索"
   ]
  },
  {
   "cell_type": "code",
   "execution_count": 32,
   "metadata": {
    "scrolled": true
   },
   "outputs": [
    {
     "name": "stdout",
     "output_type": "stream",
     "text": [
      "665791\n"
     ]
    },
    {
     "data": {
      "text/html": [
       "<div>\n",
       "<style scoped>\n",
       "    .dataframe tbody tr th:only-of-type {\n",
       "        vertical-align: middle;\n",
       "    }\n",
       "\n",
       "    .dataframe tbody tr th {\n",
       "        vertical-align: top;\n",
       "    }\n",
       "\n",
       "    .dataframe thead th {\n",
       "        text-align: right;\n",
       "    }\n",
       "</style>\n",
       "<table border=\"1\" class=\"dataframe\">\n",
       "  <thead>\n",
       "    <tr style=\"text-align: right;\">\n",
       "      <th></th>\n",
       "      <th>frequency</th>\n",
       "      <th>recency</th>\n",
       "      <th>T</th>\n",
       "      <th>monetary_value</th>\n",
       "    </tr>\n",
       "    <tr>\n",
       "      <th>Customer ID</th>\n",
       "      <th></th>\n",
       "      <th></th>\n",
       "      <th></th>\n",
       "      <th></th>\n",
       "    </tr>\n",
       "  </thead>\n",
       "  <tbody>\n",
       "    <tr>\n",
       "      <th>-01CXQpmEM5354W1E9Y5jysHWdHwSigfMMQPj0dkBAC8Vk=</th>\n",
       "      <td>0.0</td>\n",
       "      <td>0.0</td>\n",
       "      <td>301.0</td>\n",
       "      <td>0.0</td>\n",
       "    </tr>\n",
       "    <tr>\n",
       "      <th>多01dxm8JhKkAsJEEUO3FrkWJQKHM0CMIQafAKaTQc17qGM=</th>\n",
       "      <td>0.0</td>\n",
       "      <td>0.0</td>\n",
       "      <td>50.0</td>\n",
       "      <td>0.0</td>\n",
       "    </tr>\n",
       "    <tr>\n",
       "      <th>多01e1V6STnanX17iAejVYK+hhoi2hfl26RoAPgzb9VqwG0=</th>\n",
       "      <td>0.0</td>\n",
       "      <td>0.0</td>\n",
       "      <td>50.0</td>\n",
       "      <td>0.0</td>\n",
       "    </tr>\n",
       "    <tr>\n",
       "      <th>多01eF6zSTPgqPKn7KJwfR4anq3Y2wWCx2gxb9BRyrBfqBc=</th>\n",
       "      <td>0.0</td>\n",
       "      <td>0.0</td>\n",
       "      <td>94.0</td>\n",
       "      <td>0.0</td>\n",
       "    </tr>\n",
       "    <tr>\n",
       "      <th>多01ePcE5JV9obplUzckHDczoQKHM0CMIQafAKaTQc17qGM=</th>\n",
       "      <td>0.0</td>\n",
       "      <td>0.0</td>\n",
       "      <td>116.0</td>\n",
       "      <td>0.0</td>\n",
       "    </tr>\n",
       "  </tbody>\n",
       "</table>\n",
       "</div>"
      ],
      "text/plain": [
       "                                                 frequency  recency      T  \\\n",
       "Customer ID                                                                  \n",
       "-01CXQpmEM5354W1E9Y5jysHWdHwSigfMMQPj0dkBAC8Vk=        0.0      0.0  301.0   \n",
       "多01dxm8JhKkAsJEEUO3FrkWJQKHM0CMIQafAKaTQc17qGM=        0.0      0.0   50.0   \n",
       "多01e1V6STnanX17iAejVYK+hhoi2hfl26RoAPgzb9VqwG0=        0.0      0.0   50.0   \n",
       "多01eF6zSTPgqPKn7KJwfR4anq3Y2wWCx2gxb9BRyrBfqBc=        0.0      0.0   94.0   \n",
       "多01ePcE5JV9obplUzckHDczoQKHM0CMIQafAKaTQc17qGM=        0.0      0.0  116.0   \n",
       "\n",
       "                                                 monetary_value  \n",
       "Customer ID                                                      \n",
       "-01CXQpmEM5354W1E9Y5jysHWdHwSigfMMQPj0dkBAC8Vk=             0.0  \n",
       "多01dxm8JhKkAsJEEUO3FrkWJQKHM0CMIQafAKaTQc17qGM=             0.0  \n",
       "多01e1V6STnanX17iAejVYK+hhoi2hfl26RoAPgzb9VqwG0=             0.0  \n",
       "多01eF6zSTPgqPKn7KJwfR4anq3Y2wWCx2gxb9BRyrBfqBc=             0.0  \n",
       "多01ePcE5JV9obplUzckHDczoQKHM0CMIQafAKaTQc17qGM=             0.0  "
      ]
     },
     "execution_count": 32,
     "metadata": {},
     "output_type": "execute_result"
    }
   ],
   "source": [
    "#频率为0说明只有一次购买。频率分布情况\n",
    "from lifetimes.utils import summary_data_from_transaction_data\n",
    "data = summary_data_from_transaction_data(df_, customer_id_col='Customer ID', datetime_col='InvoiceDate',\n",
    "                         monetary_value_col='Sales',\n",
    "                         observation_period_end='2020-12-31')\n",
    "print(len(data))\n",
    "data.sort_values('monetary_value').head()"
   ]
  },
  {
   "cell_type": "code",
   "execution_count": 33,
   "metadata": {},
   "outputs": [
    {
     "data": {
      "text/plain": [
       "<matplotlib.axes._subplots.AxesSubplot at 0x2075b4454c8>"
      ]
     },
     "execution_count": 33,
     "metadata": {},
     "output_type": "execute_result"
    },
    {
     "data": {
      "image/png": "[encoded data removed]",
      "text/plain": [
       "<Figure size 432x288 with 1 Axes>"
      ]
     },
     "metadata": {
      "needs_background": "light"
     },
     "output_type": "display_data"
    }
   ],
   "source": [
    "data['frequency'].plot(kind='hist', bins=100)"
   ]
  },
  {
   "cell_type": "code",
   "execution_count": 34,
   "metadata": {},
   "outputs": [
    {
     "data": {
      "text/plain": [
       "<matplotlib.axes._subplots.AxesSubplot at 0x207586cc488>"
      ]
     },
     "execution_count": 34,
     "metadata": {},
     "output_type": "execute_result"
    },
    {
     "data": {
      "image/png": "[encoded data removed]",
      "text/plain": [
       "<Figure size 432x288 with 1 Axes>"
      ]
     },
     "metadata": {
      "needs_background": "light"
     },
     "output_type": "display_data"
    }
   ],
   "source": [
    "# 说在周期内只消费过一次比例\n",
    "(data.frequency == 0).value_counts().plot.bar()"
   ]
  },
  {
   "cell_type": "code",
   "execution_count": 35,
   "metadata": {},
   "outputs": [
    {
     "name": "stdout",
     "output_type": "stream",
     "text": [
      "625108\n"
     ]
    },
    {
     "data": {
      "text/plain": [
       "0.9388952388962902"
      ]
     },
     "execution_count": 35,
     "metadata": {},
     "output_type": "execute_result"
    }
   ],
   "source": [
    "print(sum(data['frequency'] == 0))\n",
    "sum(data['frequency'] == 0)/float(len(data))"
   ]
  },
  {
   "cell_type": "markdown",
   "metadata": {},
   "source": [
    "### 使用BetaGeoFitter模型进行频率/新近度分析"
   ]
  },
  {
   "cell_type": "code",
   "execution_count": 36,
   "metadata": {},
   "outputs": [
    {
     "name": "stdout",
     "output_type": "stream",
     "text": [
      "<lifetimes.BetaGeoFitter: fitted with 665791 subjects, a: 3.57, alpha: 30.21, b: 0.94, r: 0.04>\n"
     ]
    }
   ],
   "source": [
    "from lifetimes import BetaGeoFitter\n",
    "bgf = BetaGeoFitter(penalizer_coef=0.0)\n",
    "bgf.fit(data['frequency'], data['recency'], data['T'])\n",
    "print(bgf)"
   ]
  },
  {
   "cell_type": "code",
   "execution_count": 37,
   "metadata": {},
   "outputs": [
    {
     "data": {
      "text/plain": [
       "<matplotlib.axes._subplots.AxesSubplot at 0x207587939c8>"
      ]
     },
     "execution_count": 37,
     "metadata": {},
     "output_type": "execute_result"
    },
    {
     "data": {
      "image/png": "[encoded data removed]",
      "text/plain": [
       "<Figure size 864x576 with 2 Axes>"
      ]
     },
     "metadata": {
      "needs_background": "light"
     },
     "output_type": "display_data"
    }
   ],
   "source": [
    "from lifetimes.plotting import plot_frequency_recency_matrix\n",
    "import matplotlib.pyplot as plt\n",
    "fig = plt.figure(figsize=(12,8))\n",
    "plot_frequency_recency_matrix(bgf)"
   ]
  },
  {
   "cell_type": "markdown",
   "metadata": {},
   "source": [
    "### 右下角的数据80/500，该用户进行了80天购买，并且他最近购买时间大约是500天（她的第一笔交易和她最近的交易之间的时间间隔），那么她属于最有价值客户，依照其消费惯性，将来也会进行多笔交易,右上角黑了的部分可能是已经失去,类似的客户20/500这样的数据，代表客户不经常来，最近没有见过他，所以他可能再次购买,最近购买的顾客应该还“活着”"
   ]
  },
  {
   "cell_type": "markdown",
   "metadata": {},
   "source": [
    "### 黄色部分为还在用户，深色部分为丢失用户。我们将客户从“下一期最高预期购买量”排名降至最低。模型公开了一种方法，该方法将使用其历史记录预测下一时期客户的预期购买量："
   ]
  },
  {
   "cell_type": "code",
   "execution_count": 38,
   "metadata": {},
   "outputs": [
    {
     "data": {
      "text/html": [
       "<div>\n",
       "<style scoped>\n",
       "    .dataframe tbody tr th:only-of-type {\n",
       "        vertical-align: middle;\n",
       "    }\n",
       "\n",
       "    .dataframe tbody tr th {\n",
       "        vertical-align: top;\n",
       "    }\n",
       "\n",
       "    .dataframe thead th {\n",
       "        text-align: right;\n",
       "    }\n",
       "</style>\n",
       "<table border=\"1\" class=\"dataframe\">\n",
       "  <thead>\n",
       "    <tr style=\"text-align: right;\">\n",
       "      <th></th>\n",
       "      <th>frequency</th>\n",
       "      <th>recency</th>\n",
       "      <th>T</th>\n",
       "      <th>monetary_value</th>\n",
       "      <th>predicted_purchases</th>\n",
       "    </tr>\n",
       "    <tr>\n",
       "      <th>Customer ID</th>\n",
       "      <th></th>\n",
       "      <th></th>\n",
       "      <th></th>\n",
       "      <th></th>\n",
       "      <th></th>\n",
       "    </tr>\n",
       "  </thead>\n",
       "  <tbody>\n",
       "    <tr>\n",
       "      <th>h01Vi4HXwDYGN3gmT3aqIrVoAKHM0CMIQafAKaTQc17qGM=</th>\n",
       "      <td>32.0</td>\n",
       "      <td>111.0</td>\n",
       "      <td>113.0</td>\n",
       "      <td>334.375000</td>\n",
       "      <td>10.089023</td>\n",
       "    </tr>\n",
       "    <tr>\n",
       "      <th>t01MBW9zURdD5m6eQ83INBdXZq8qGekDqre2uZnHtcQpY8=</th>\n",
       "      <td>14.0</td>\n",
       "      <td>111.0</td>\n",
       "      <td>120.0</td>\n",
       "      <td>8118.571429</td>\n",
       "      <td>3.476879</td>\n",
       "    </tr>\n",
       "    <tr>\n",
       "      <th>t01qH6ONLWIW7MshhLEgY/+7GUH0gnChQvUNmmkJYYrR2c=</th>\n",
       "      <td>13.0</td>\n",
       "      <td>330.0</td>\n",
       "      <td>341.0</td>\n",
       "      <td>5240.769231</td>\n",
       "      <td>2.576009</td>\n",
       "    </tr>\n",
       "    <tr>\n",
       "      <th>k012U/nYBWKJoo20rvmpNm3ugKHM0CMIQafAKaTQc17qGM=</th>\n",
       "      <td>9.0</td>\n",
       "      <td>339.0</td>\n",
       "      <td>347.0</td>\n",
       "      <td>6465.555556</td>\n",
       "      <td>1.739348</td>\n",
       "    </tr>\n",
       "    <tr>\n",
       "      <th>小01X/PDVhCqaS+tHQrmK39Jw9nn6lnZ7cacExIx+8aylCY=</th>\n",
       "      <td>8.0</td>\n",
       "      <td>300.0</td>\n",
       "      <td>306.0</td>\n",
       "      <td>8123.750000</td>\n",
       "      <td>1.633563</td>\n",
       "    </tr>\n",
       "  </tbody>\n",
       "</table>\n",
       "</div>"
      ],
      "text/plain": [
       "                                                 frequency  recency      T  \\\n",
       "Customer ID                                                                  \n",
       "h01Vi4HXwDYGN3gmT3aqIrVoAKHM0CMIQafAKaTQc17qGM=       32.0    111.0  113.0   \n",
       "t01MBW9zURdD5m6eQ83INBdXZq8qGekDqre2uZnHtcQpY8=       14.0    111.0  120.0   \n",
       "t01qH6ONLWIW7MshhLEgY/+7GUH0gnChQvUNmmkJYYrR2c=       13.0    330.0  341.0   \n",
       "k012U/nYBWKJoo20rvmpNm3ugKHM0CMIQafAKaTQc17qGM=        9.0    339.0  347.0   \n",
       "小01X/PDVhCqaS+tHQrmK39Jw9nn6lnZ7cacExIx+8aylCY=        8.0    300.0  306.0   \n",
       "\n",
       "                                                 monetary_value  \\\n",
       "Customer ID                                                       \n",
       "h01Vi4HXwDYGN3gmT3aqIrVoAKHM0CMIQafAKaTQc17qGM=      334.375000   \n",
       "t01MBW9zURdD5m6eQ83INBdXZq8qGekDqre2uZnHtcQpY8=     8118.571429   \n",
       "t01qH6ONLWIW7MshhLEgY/+7GUH0gnChQvUNmmkJYYrR2c=     5240.769231   \n",
       "k012U/nYBWKJoo20rvmpNm3ugKHM0CMIQafAKaTQc17qGM=     6465.555556   \n",
       "小01X/PDVhCqaS+tHQrmK39Jw9nn6lnZ7cacExIx+8aylCY=     8123.750000   \n",
       "\n",
       "                                                 predicted_purchases  \n",
       "Customer ID                                                           \n",
       "h01Vi4HXwDYGN3gmT3aqIrVoAKHM0CMIQafAKaTQc17qGM=            10.089023  \n",
       "t01MBW9zURdD5m6eQ83INBdXZq8qGekDqre2uZnHtcQpY8=             3.476879  \n",
       "t01qH6ONLWIW7MshhLEgY/+7GUH0gnChQvUNmmkJYYrR2c=             2.576009  \n",
       "k012U/nYBWKJoo20rvmpNm3ugKHM0CMIQafAKaTQc17qGM=             1.739348  \n",
       "小01X/PDVhCqaS+tHQrmK39Jw9nn6lnZ7cacExIx+8aylCY=             1.633563  "
      ]
     },
     "execution_count": 38,
     "metadata": {},
     "output_type": "execute_result"
    }
   ],
   "source": [
    "# t是时间 t为1是指接下来1天最后价值客户购买的概率以及其他信息\n",
    "t = 181\n",
    "data['predicted_purchases'] = bgf.conditional_expected_number_of_purchases_up_to_time(t, \n",
    "                                  data['frequency'], data['recency'], data['T'])\n",
    "#下面列出的是我们的前五大客户，模型的predict_purchases列给出了购买量的预测\n",
    "data.sort_values(by='predicted_purchases', ascending=False).head()\n"
   ]
  },
  {
   "cell_type": "markdown",
   "metadata": {},
   "source": [
    "### Recency（ [公式] ） - 顾客第一次购买和最后一次购买的时间差    Frequency（ [公式] ）- 顾客重复购买的天/月/季度数（取决与不同的产业，时间单位可以是月份，季度或者年数）   Monetary - 顾客平均每天/月/季的消费额（时间单位需与Frequency保持一致）  T - 顾客第一次购买与整个分析截止时间（所有顾客交易日期的最大值）的时间差   \tpredicted_purchases下一期最高预期购买量"
   ]
  },
  {
   "cell_type": "code",
   "execution_count": 39,
   "metadata": {},
   "outputs": [
    {
     "data": {
      "text/plain": [
       "<matplotlib.axes._subplots.AxesSubplot at 0x207587cc948>"
      ]
     },
     "execution_count": 39,
     "metadata": {},
     "output_type": "execute_result"
    },
    {
     "data": {
      "image/png": "[encoded data removed]",
      "text/plain": [
       "<Figure size 432x288 with 1 Axes>"
      ]
     },
     "metadata": {
      "needs_background": "light"
     },
     "output_type": "display_data"
    }
   ],
   "source": [
    "from lifetimes.plotting import plot_period_transactions\n",
    "#如果结果相近，模型的预测那就不错\n",
    "plot_period_transactions(bgf)"
   ]
  },
  {
   "cell_type": "markdown",
   "metadata": {},
   "source": [
    "### 分数据集进行预测现在将数据集划分为校准周期数据集和保持数据集。这很重要，因为我们想要测试我们的模型如何对尚未看到的数据执行（就像机器学习实践中的交叉验证一样）"
   ]
  },
  {
   "cell_type": "code",
   "execution_count": 26,
   "metadata": {},
   "outputs": [
    {
     "data": {
      "text/html": [
       "<div>\n",
       "<style scoped>\n",
       "    .dataframe tbody tr th:only-of-type {\n",
       "        vertical-align: middle;\n",
       "    }\n",
       "\n",
       "    .dataframe tbody tr th {\n",
       "        vertical-align: top;\n",
       "    }\n",
       "\n",
       "    .dataframe thead th {\n",
       "        text-align: right;\n",
       "    }\n",
       "</style>\n",
       "<table border=\"1\" class=\"dataframe\">\n",
       "  <thead>\n",
       "    <tr style=\"text-align: right;\">\n",
       "      <th></th>\n",
       "      <th>frequency_cal</th>\n",
       "      <th>recency_cal</th>\n",
       "      <th>T_cal</th>\n",
       "      <th>frequency_holdout</th>\n",
       "      <th>duration_holdout</th>\n",
       "    </tr>\n",
       "    <tr>\n",
       "      <th>Customer ID</th>\n",
       "      <th></th>\n",
       "      <th></th>\n",
       "      <th></th>\n",
       "      <th></th>\n",
       "      <th></th>\n",
       "    </tr>\n",
       "  </thead>\n",
       "  <tbody>\n",
       "    <tr>\n",
       "      <th>h01Vi4HXwDYGN3gmT3aqIrVoAKHM0CMIQafAKaTQc17qGM=</th>\n",
       "      <td>32.0</td>\n",
       "      <td>111.0</td>\n",
       "      <td>113.0</td>\n",
       "      <td>53.0</td>\n",
       "      <td>181.0</td>\n",
       "    </tr>\n",
       "    <tr>\n",
       "      <th>t01MBW9zURdD5m6eQ83INBdXZq8qGekDqre2uZnHtcQpY8=</th>\n",
       "      <td>14.0</td>\n",
       "      <td>111.0</td>\n",
       "      <td>120.0</td>\n",
       "      <td>23.0</td>\n",
       "      <td>181.0</td>\n",
       "    </tr>\n",
       "    <tr>\n",
       "      <th>e01YMW9AZyDKCXVFYaid6/HZGdHwSigfMMQPj0dkBAC8Vk=</th>\n",
       "      <td>12.0</td>\n",
       "      <td>79.0</td>\n",
       "      <td>122.0</td>\n",
       "      <td>11.0</td>\n",
       "      <td>181.0</td>\n",
       "    </tr>\n",
       "    <tr>\n",
       "      <th>p01G934keK4kmOfxWUs0JkFmdnn6lnZ7cacExIx+8aylCY=</th>\n",
       "      <td>0.0</td>\n",
       "      <td>0.0</td>\n",
       "      <td>97.0</td>\n",
       "      <td>11.0</td>\n",
       "      <td>181.0</td>\n",
       "    </tr>\n",
       "    <tr>\n",
       "      <th>201nFTjD1BLd7Ibim1hQqL9ImnGZ/iAydcz/+qq7i1UY74=</th>\n",
       "      <td>1.0</td>\n",
       "      <td>17.0</td>\n",
       "      <td>19.0</td>\n",
       "      <td>7.0</td>\n",
       "      <td>181.0</td>\n",
       "    </tr>\n",
       "  </tbody>\n",
       "</table>\n",
       "</div>"
      ],
      "text/plain": [
       "                                                 frequency_cal  recency_cal  \\\n",
       "Customer ID                                                                   \n",
       "h01Vi4HXwDYGN3gmT3aqIrVoAKHM0CMIQafAKaTQc17qGM=           32.0        111.0   \n",
       "t01MBW9zURdD5m6eQ83INBdXZq8qGekDqre2uZnHtcQpY8=           14.0        111.0   \n",
       "e01YMW9AZyDKCXVFYaid6/HZGdHwSigfMMQPj0dkBAC8Vk=           12.0         79.0   \n",
       "p01G934keK4kmOfxWUs0JkFmdnn6lnZ7cacExIx+8aylCY=            0.0          0.0   \n",
       "201nFTjD1BLd7Ibim1hQqL9ImnGZ/iAydcz/+qq7i1UY74=            1.0         17.0   \n",
       "\n",
       "                                                 T_cal  frequency_holdout  \\\n",
       "Customer ID                                                                 \n",
       "h01Vi4HXwDYGN3gmT3aqIrVoAKHM0CMIQafAKaTQc17qGM=  113.0               53.0   \n",
       "t01MBW9zURdD5m6eQ83INBdXZq8qGekDqre2uZnHtcQpY8=  120.0               23.0   \n",
       "e01YMW9AZyDKCXVFYaid6/HZGdHwSigfMMQPj0dkBAC8Vk=  122.0               11.0   \n",
       "p01G934keK4kmOfxWUs0JkFmdnn6lnZ7cacExIx+8aylCY=   97.0               11.0   \n",
       "201nFTjD1BLd7Ibim1hQqL9ImnGZ/iAydcz/+qq7i1UY74=   19.0                7.0   \n",
       "\n",
       "                                                 duration_holdout  \n",
       "Customer ID                                                        \n",
       "h01Vi4HXwDYGN3gmT3aqIrVoAKHM0CMIQafAKaTQc17qGM=             181.0  \n",
       "t01MBW9zURdD5m6eQ83INBdXZq8qGekDqre2uZnHtcQpY8=             181.0  \n",
       "e01YMW9AZyDKCXVFYaid6/HZGdHwSigfMMQPj0dkBAC8Vk=             181.0  \n",
       "p01G934keK4kmOfxWUs0JkFmdnn6lnZ7cacExIx+8aylCY=             181.0  \n",
       "201nFTjD1BLd7Ibim1hQqL9ImnGZ/iAydcz/+qq7i1UY74=             181.0  "
      ]
     },
     "execution_count": 26,
     "metadata": {},
     "output_type": "execute_result"
    }
   ],
   "source": [
    "from lifetimes.utils import calibration_and_holdout_data\n",
    "summary_cal_holdout = calibration_and_holdout_data(df_, 'Customer ID', 'InvoiceDate',\n",
    "                                        calibration_period_end='2020-12-31',\n",
    "                                        observation_period_end='2021-06-30' )   \n",
    "summary_cal_holdout.sort_values(by='frequency_holdout', ascending=False).head()"
   ]
  },
  {
   "cell_type": "code",
   "execution_count": 49,
   "metadata": {},
   "outputs": [
    {
     "data": {
      "text/html": [
       "<div>\n",
       "<style scoped>\n",
       "    .dataframe tbody tr th:only-of-type {\n",
       "        vertical-align: middle;\n",
       "    }\n",
       "\n",
       "    .dataframe tbody tr th {\n",
       "        vertical-align: top;\n",
       "    }\n",
       "\n",
       "    .dataframe thead th {\n",
       "        text-align: right;\n",
       "    }\n",
       "</style>\n",
       "<table border=\"1\" class=\"dataframe\">\n",
       "  <thead>\n",
       "    <tr style=\"text-align: right;\">\n",
       "      <th></th>\n",
       "      <th>frequency_cal</th>\n",
       "      <th>recency_cal</th>\n",
       "      <th>T_cal</th>\n",
       "      <th>frequency_holdout</th>\n",
       "      <th>duration_holdout</th>\n",
       "      <th>predicted_purchases</th>\n",
       "    </tr>\n",
       "    <tr>\n",
       "      <th>Customer ID</th>\n",
       "      <th></th>\n",
       "      <th></th>\n",
       "      <th></th>\n",
       "      <th></th>\n",
       "      <th></th>\n",
       "      <th></th>\n",
       "    </tr>\n",
       "  </thead>\n",
       "  <tbody>\n",
       "    <tr>\n",
       "      <th>h01Vi4HXwDYGN3gmT3aqIrVoAKHM0CMIQafAKaTQc17qGM=</th>\n",
       "      <td>32.0</td>\n",
       "      <td>111.0</td>\n",
       "      <td>113.0</td>\n",
       "      <td>53.0</td>\n",
       "      <td>181.0</td>\n",
       "      <td>9.930182</td>\n",
       "    </tr>\n",
       "    <tr>\n",
       "      <th>t01MBW9zURdD5m6eQ83INBdXZq8qGekDqre2uZnHtcQpY8=</th>\n",
       "      <td>14.0</td>\n",
       "      <td>111.0</td>\n",
       "      <td>120.0</td>\n",
       "      <td>23.0</td>\n",
       "      <td>181.0</td>\n",
       "      <td>3.414684</td>\n",
       "    </tr>\n",
       "    <tr>\n",
       "      <th>t01qH6ONLWIW7MshhLEgY/+7GUH0gnChQvUNmmkJYYrR2c=</th>\n",
       "      <td>13.0</td>\n",
       "      <td>330.0</td>\n",
       "      <td>341.0</td>\n",
       "      <td>3.0</td>\n",
       "      <td>181.0</td>\n",
       "      <td>2.548816</td>\n",
       "    </tr>\n",
       "    <tr>\n",
       "      <th>k012U/nYBWKJoo20rvmpNm3ugKHM0CMIQafAKaTQc17qGM=</th>\n",
       "      <td>9.0</td>\n",
       "      <td>339.0</td>\n",
       "      <td>347.0</td>\n",
       "      <td>2.0</td>\n",
       "      <td>181.0</td>\n",
       "      <td>1.721845</td>\n",
       "    </tr>\n",
       "    <tr>\n",
       "      <th>小01X/PDVhCqaS+tHQrmK39Jw9nn6lnZ7cacExIx+8aylCY=</th>\n",
       "      <td>8.0</td>\n",
       "      <td>300.0</td>\n",
       "      <td>306.0</td>\n",
       "      <td>0.0</td>\n",
       "      <td>181.0</td>\n",
       "      <td>1.616583</td>\n",
       "    </tr>\n",
       "  </tbody>\n",
       "</table>\n",
       "</div>"
      ],
      "text/plain": [
       "                                                 frequency_cal  recency_cal  \\\n",
       "Customer ID                                                                   \n",
       "h01Vi4HXwDYGN3gmT3aqIrVoAKHM0CMIQafAKaTQc17qGM=           32.0        111.0   \n",
       "t01MBW9zURdD5m6eQ83INBdXZq8qGekDqre2uZnHtcQpY8=           14.0        111.0   \n",
       "t01qH6ONLWIW7MshhLEgY/+7GUH0gnChQvUNmmkJYYrR2c=           13.0        330.0   \n",
       "k012U/nYBWKJoo20rvmpNm3ugKHM0CMIQafAKaTQc17qGM=            9.0        339.0   \n",
       "小01X/PDVhCqaS+tHQrmK39Jw9nn6lnZ7cacExIx+8aylCY=            8.0        300.0   \n",
       "\n",
       "                                                 T_cal  frequency_holdout  \\\n",
       "Customer ID                                                                 \n",
       "h01Vi4HXwDYGN3gmT3aqIrVoAKHM0CMIQafAKaTQc17qGM=  113.0               53.0   \n",
       "t01MBW9zURdD5m6eQ83INBdXZq8qGekDqre2uZnHtcQpY8=  120.0               23.0   \n",
       "t01qH6ONLWIW7MshhLEgY/+7GUH0gnChQvUNmmkJYYrR2c=  341.0                3.0   \n",
       "k012U/nYBWKJoo20rvmpNm3ugKHM0CMIQafAKaTQc17qGM=  347.0                2.0   \n",
       "小01X/PDVhCqaS+tHQrmK39Jw9nn6lnZ7cacExIx+8aylCY=  306.0                0.0   \n",
       "\n",
       "                                                 duration_holdout  \\\n",
       "Customer ID                                                         \n",
       "h01Vi4HXwDYGN3gmT3aqIrVoAKHM0CMIQafAKaTQc17qGM=             181.0   \n",
       "t01MBW9zURdD5m6eQ83INBdXZq8qGekDqre2uZnHtcQpY8=             181.0   \n",
       "t01qH6ONLWIW7MshhLEgY/+7GUH0gnChQvUNmmkJYYrR2c=             181.0   \n",
       "k012U/nYBWKJoo20rvmpNm3ugKHM0CMIQafAKaTQc17qGM=             181.0   \n",
       "小01X/PDVhCqaS+tHQrmK39Jw9nn6lnZ7cacExIx+8aylCY=             181.0   \n",
       "\n",
       "                                                 predicted_purchases  \n",
       "Customer ID                                                           \n",
       "h01Vi4HXwDYGN3gmT3aqIrVoAKHM0CMIQafAKaTQc17qGM=             9.930182  \n",
       "t01MBW9zURdD5m6eQ83INBdXZq8qGekDqre2uZnHtcQpY8=             3.414684  \n",
       "t01qH6ONLWIW7MshhLEgY/+7GUH0gnChQvUNmmkJYYrR2c=             2.548816  \n",
       "k012U/nYBWKJoo20rvmpNm3ugKHM0CMIQafAKaTQc17qGM=             1.721845  \n",
       "小01X/PDVhCqaS+tHQrmK39Jw9nn6lnZ7cacExIx+8aylCY=             1.616583  "
      ]
     },
     "execution_count": 49,
     "metadata": {},
     "output_type": "execute_result"
    }
   ],
   "source": [
    "t=181\n",
    "summary_cal_holdout['predicted_purchases'] = bgf.conditional_expected_number_of_purchases_up_to_time(t, \n",
    "                                  summary_cal_holdout['frequency_cal'], summary_cal_holdout['recency_cal'], summary_cal_holdout['T_cal'])\n",
    "#下面列出的是我们的前五大客户，模型的predict_purchases列给出了购买量的预测\n",
    "summary_cal_holdout.sort_values(by='predicted_purchases', ascending=False).head()\n"
   ]
  },
  {
   "cell_type": "code",
   "execution_count": 47,
   "metadata": {
    "scrolled": true
   },
   "outputs": [
    {
     "data": {
      "text/plain": [
       "<matplotlib.axes._subplots.AxesSubplot at 0x20758928908>"
      ]
     },
     "execution_count": 47,
     "metadata": {},
     "output_type": "execute_result"
    },
    {
     "data": {
      "image/png": "[encoded data removed]",
      "text/plain": [
       "<Figure size 432x288 with 1 Axes>"
      ]
     },
     "metadata": {
      "needs_background": "light"
     },
     "output_type": "display_data"
    }
   ],
   "source": [
    "from lifetimes.plotting import plot_calibration_purchases_vs_holdout_purchases\n",
    "bgf.fit(summary_cal_holdout['frequency_cal'], summary_cal_holdout['recency_cal'], summary_cal_holdout['T_cal'])\n",
    "plot_calibration_purchases_vs_holdout_purchases(bgf, summary_cal_holdout)"
   ]
  },
  {
   "cell_type": "markdown",
   "metadata": {},
   "source": [
    "### 样本期间从开始到2020-12-31; 验证期从2021-01-01到2021-06-30。该图通过重复购买次数（x轴）对校准期内的所有客户进行分组，然后在保持期（y轴）中对其重复购买进行平均。橙线和蓝线分别表示模型预测和y轴的实际结果。正如我们所看到的，我们的模型能够非常准确地预测出样本中客户群的行为，模型低估了3次购买后。"
   ]
  },
  {
   "cell_type": "code",
   "execution_count": 48,
   "metadata": {},
   "outputs": [
    {
     "name": "stdout",
     "output_type": "stream",
     "text": [
      "Customer ID\n",
      "-01CXQpmEM5354W1E9Y5jysHWdHwSigfMMQPj0dkBAC8Vk=    0.017438\n",
      "-01ImFkgFq2wilGM2aDBAs09g==                        0.048465\n",
      ".019lblZS71SIXRrbKbX8gH0c16em85Fa0GBxDkCy7kcI8=    0.046699\n",
      ".01MPyjo2BxsrZa0sIQyVnAOM2DEMds1FAQI7fgfrP3PMg=    0.067042\n",
      "001+0c99ohoK2zGa6v1PyAVrM2DEMds1FAQI7fgfrP3PMg=    0.016363\n",
      "001+413KeLS8Gxq5O5Av3E4z816em85Fa0GBxDkCy7kcI8=    0.042693\n",
      "001+CmZfQZPCRLCNfYYoA1CcAKHM0CMIQafAKaTQc17qGM=    0.017798\n",
      "001+CnaWn0A4O7XzvaVFNKKxNnn6lnZ7cacExIx+8aylCY=    0.028197\n",
      "001+H2O0WXvGq8LSahqfr52M816em85Fa0GBxDkCy7kcI8=    0.046030\n",
      "001+JkRLrEEJjoZzP4uf5nl9QKHM0CMIQafAKaTQc17qGM=    0.046030\n",
      "dtype: float64\n",
      "3.414684320230232\n",
      "23.0\n",
      "MSE: 0.04640168856667705\n"
     ]
    }
   ],
   "source": [
    "###### import numpy as np\n",
    "def score_model(actuals, predicted, metric='mse'):\n",
    "    # make sure metric name is lower case\n",
    "    metric = metric.lower()\n",
    "    # Mean Squared Error and Root Mean Squared Error\n",
    "    if metric == 'mse' or metric == 'rmse':\n",
    "        val = np.sum(np.square(actuals - predicted)) / actuals.shape[0]\n",
    "        if metric == 'rmse':\n",
    "            val = np.sqrt(val)\n",
    "    # Mean Absolute Error\n",
    "    elif metric == 'mae':\n",
    "         val = np.sum(np.abs(actuals - predicted)) / actuals.shape[0]\n",
    "    else:\n",
    "        val = None\n",
    "    return val\n",
    "predicted_freq = bgf.predict(summary_cal_holdout['duration_holdout'], # Tahmin için gün sayısı\n",
    "                        summary_cal_holdout['frequency_cal'],\n",
    "                       summary_cal_holdout['recency_cal'],\n",
    "                        summary_cal_holdout['T_cal'])\n",
    "print(predicted_freq[:10])\n",
    "print(predicted_freq['t01MBW9zURdD5m6eQ83INBdXZq8qGekDqre2uZnHtcQpY8='])\n",
    "print(summary_cal_holdout.loc['t01MBW9zURdD5m6eQ83INBdXZq8qGekDqre2uZnHtcQpY8='][\"frequency_holdout\"])\n",
    "print('MSE: {0}'.format(score_model(summary_cal_holdout[\"frequency_holdout\"], predicted_freq, 'mse')))"
   ]
  },
  {
   "cell_type": "markdown",
   "metadata": {},
   "source": [
    "### 客户交易预测:根据客户历史记录，我们现在可以预测个人未来的购买情况："
   ]
  },
  {
   "cell_type": "code",
   "execution_count": 21,
   "metadata": {},
   "outputs": [
    {
     "data": {
      "text/plain": [
       "0.5261878466568949"
      ]
     },
     "execution_count": 21,
     "metadata": {},
     "output_type": "execute_result"
    }
   ],
   "source": [
    "# 预测't01MBW9zURdD5m6eQ83INBdXZq8qGekDqre2uZnHtcQpY8='用户未来10天内购买商品量(最忠诚客户)\n",
    "t = 10\n",
    "individual = summary_cal_holdout.loc['t01MBW9zURdD5m6eQ83INBdXZq8qGekDqre2uZnHtcQpY8=']\n",
    "bgf.predict(t, individual['frequency_cal'], individual['recency_cal'], individual['T_cal'])"
   ]
  },
  {
   "cell_type": "markdown",
   "metadata": {},
   "source": [
    "### 客户概率历史根据客户交易历史记录，我们可以根据我们训练的模型计算其存活的历史概率。例如，我们想看看我们最好的客户的交易历史，看看活着的可能性："
   ]
  },
  {
   "cell_type": "code",
   "execution_count": 22,
   "metadata": {},
   "outputs": [
    {
     "data": {
      "text/plain": [
       "<matplotlib.axes._subplots.AxesSubplot at 0x2075b360fc8>"
      ]
     },
     "execution_count": 22,
     "metadata": {},
     "output_type": "execute_result"
    },
    {
     "data": {
      "image/png": "[encoded data removed]",
      "text/plain": [
       "<Figure size 864x576 with 1 Axes>"
      ]
     },
     "metadata": {
      "needs_background": "light"
     },
     "output_type": "display_data"
    }
   ],
   "source": [
    "from lifetimes.plotting import plot_history_alive\n",
    "import matplotlib.pyplot as plt\n",
    "fig = plt.figure(figsize=(12,8))\n",
    "id = 't01MBW9zURdD5m6eQ83INBdXZq8qGekDqre2uZnHtcQpY8='\n",
    "days_since_birth = 365\n",
    "sp_trans = df_.loc[df_['Customer ID'] == id]\n",
    "plot_history_alive(bgf, days_since_birth, sp_trans, 'InvoiceDate')\n",
    "#  我们最好的客户't01MBW9zURdD5m6eQ83INBdXZq8qGekDqre2uZnHtcQpY8=' 是否还活着分析"
   ]
  },
  {
   "cell_type": "code",
   "execution_count": 23,
   "metadata": {},
   "outputs": [
    {
     "data": {
      "text/plain": [
       "<matplotlib.axes._subplots.AxesSubplot at 0x2075b35d348>"
      ]
     },
     "execution_count": 23,
     "metadata": {},
     "output_type": "execute_result"
    },
    {
     "data": {
      "image/png": "[encoded data removed]",
      "text/plain": [
       "<Figure size 864x576 with 1 Axes>"
      ]
     },
     "metadata": {
      "needs_background": "light"
     },
     "output_type": "display_data"
    }
   ],
   "source": [
    "fig = plt.figure(figsize=(12,8))\n",
    "id = '.01MPyjo2BxsrZa0sIQyVnAOM2DEMds1FAQI7fgfrP3PMg='\n",
    "days_since_birth = 365\n",
    "sp_trans = df_.loc[df_['Customer ID'] == id]\n",
    "plot_history_alive(bgf, days_since_birth, sp_trans, 'InvoiceDate')"
   ]
  },
  {
   "cell_type": "markdown",
   "metadata": {},
   "source": [
    "### 这位顾客来的频率不是很高但是分布还算均匀，最近也有消费，是‘活着’的用户"
   ]
  },
  {
   "cell_type": "markdown",
   "metadata": {},
   "source": [
    "### gamma-gamma模型估算客户终生价值我们仅估算至少有一次重复购买的客户  训练Gamma-Gamma模型，并预测平均交易价值"
   ]
  },
  {
   "cell_type": "code",
   "execution_count": 24,
   "metadata": {},
   "outputs": [
    {
     "name": "stdout",
     "output_type": "stream",
     "text": [
      "不止一天购买人数-----70618\n"
     ]
    },
    {
     "data": {
      "text/plain": [
       "4372.019968987497"
      ]
     },
     "execution_count": 24,
     "metadata": {},
     "output_type": "execute_result"
    }
   ],
   "source": [
    "# frequency>0 购买天数大于1的个数\n",
    "returning_customers_summary = data[data['frequency']>0]\n",
    "print(f'不止一天购买人数-----{returning_customers_summary.shape[0]}')\n",
    "\n",
    "# 模型训练\n",
    "from lifetimes import GammaGammaFitter\n",
    "ggf = GammaGammaFitter(penalizer_coef = 0)\n",
    "ggf.fit(returning_customers_summary['frequency'],\n",
    "        returning_customers_summary['monetary_value'])\n",
    "\n",
    "# 这样我们可以估算每个客户的平均交易价值\n",
    "df_2= ggf.conditional_expected_average_profit(\n",
    "        data['frequency'],\n",
    "        data['monetary_value']\n",
    "    )\n",
    "max(list(df_2))"
   ]
  },
  {
   "cell_type": "code",
   "execution_count": null,
   "metadata": {},
   "outputs": [],
   "source": []
  },
  {
   "cell_type": "code",
   "execution_count": null,
   "metadata": {},
   "outputs": [],
   "source": []
  },
  {
   "cell_type": "code",
   "execution_count": null,
   "metadata": {},
   "outputs": [],
   "source": []
  },
  {
   "cell_type": "code",
   "execution_count": null,
   "metadata": {},
   "outputs": [],
   "source": []
  }
 ],
 "metadata": {
  "kernelspec": {
   "display_name": "Python 3",
   "language": "python",
   "name": "python3"
  },
  "language_info": {
   "codemirror_mode": {
    "name": "ipython",
    "version": 3
   },
   "file_extension": ".py",
   "mimetype": "text/x-python",
   "name": "python",
   "nbconvert_exporter": "python",
   "pygments_lexer": "ipython3",
   "version": "3.7.6"
  }
 },
 "nbformat": 4,
 "nbformat_minor": 4
}
