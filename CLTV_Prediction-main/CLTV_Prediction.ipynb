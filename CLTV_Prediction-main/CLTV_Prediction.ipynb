{
 "cells": [
  {
   "cell_type": "markdown",
   "metadata": {},
   "source": [
    "##############################################################\n",
    "# BG-NBD ve Gamma-Gamma ile CLTV Prediction\n",
    "##############################################################\n"
   ]
  },
  {
   "cell_type": "code",
   "execution_count": 1,
   "metadata": {},
   "outputs": [],
   "source": [
    "# import libraries\n",
    "import datetime as dt\n",
    "import pandas as pd\n",
    "import matplotlib.pyplot as plt\n",
    "from lifetimes import BetaGeoFitter\n",
    "from lifetimes import GammaGammaFitter\n",
    "from lifetimes.plotting import plot_period_transactions\n",
    "from sklearn.preprocessing import MinMaxScaler"
   ]
  },
  {
   "cell_type": "code",
   "execution_count": null,
   "metadata": {},
   "outputs": [],
   "source": [
    "\n",
    "# 读取数据\n",
    "df = pd.read_excel('Online Retail.xlsx')\n",
    "df = df.copy()\n",
    "df.head(2).T"
   ]
  },
  {
   "cell_type": "code",
   "execution_count": 2,
   "metadata": {},
   "outputs": [],
   "source": [
    "#aykırı değerleri törpüleyen fonksiyon \n",
    "def outlier_thresholds(dataframe, variable):\n",
    "    quartile1 = dataframe[variable].quantile(0.01)\n",
    "    quartile3 = dataframe[variable].quantile(0.99)\n",
    "    interquantile_range = quartile3 - quartile1\n",
    "    up_limit = quartile3 + 1.5 * interquantile_range\n",
    "    low_limit = quartile1 - 1.5 * interquantile_range\n",
    "    return low_limit, up_limit"
   ]
  },
  {
   "cell_type": "code",
   "execution_count": 3,
   "metadata": {},
   "outputs": [],
   "source": [
    "def replace_with_thresholds(dataframe, variable):\n",
    "    low_limit, up_limit = outlier_thresholds(dataframe, variable)\n",
    "    # dataframe.loc[(dataframe[variable] < low_limit), variable] = low_limit\n",
    "    dataframe.loc[(dataframe[variable] > up_limit), variable] = up_limit"
   ]
  },
  {
   "cell_type": "code",
   "execution_count": null,
   "metadata": {},
   "outputs": [],
   "source": [
    "df_ = pd.read_excel('online_retail_II.xlsx',\n",
    "                    sheet_name=\"Year 2010-2011\")\n",
    "df = df_.copy()\n",
    "df.shape"
   ]
  },
  {
   "cell_type": "code",
   "execution_count": null,
   "metadata": {},
   "outputs": [],
   "source": [
    "df.head()"
   ]
  },
  {
   "cell_type": "code",
   "execution_count": null,
   "metadata": {},
   "outputs": [],
   "source": [
    "df.info()"
   ]
  },
  {
   "cell_type": "code",
   "execution_count": null,
   "metadata": {},
   "outputs": [],
   "source": [
    "df.describe().T"
   ]
  },
  {
   "cell_type": "code",
   "execution_count": null,
   "metadata": {},
   "outputs": [],
   "source": [
    "df.dropna(inplace=True)\n",
    "df = df[~df[\"Invoice\"].str.contains(\"C\", na=False)]\n",
    "df = df[df[\"Quantity\"] > 0]"
   ]
  },
  {
   "cell_type": "code",
   "execution_count": null,
   "metadata": {},
   "outputs": [],
   "source": [
    "#UK müşterilerinin seçilmesi.\n",
    "df = df[df[\"Country\"].str.contains(\"United Kingdom\")]\n",
    "df[\"Country\"].head()"
   ]
  },
  {
   "cell_type": "code",
   "execution_count": null,
   "metadata": {},
   "outputs": [],
   "source": [
    "replace_with_thresholds(df, \"Quantity\")\n",
    "replace_with_thresholds(df, \"Price\")"
   ]
  },
  {
   "cell_type": "code",
   "execution_count": null,
   "metadata": {},
   "outputs": [],
   "source": [
    "df.describe().T"
   ]
  },
  {
   "cell_type": "code",
   "execution_count": null,
   "metadata": {},
   "outputs": [],
   "source": [
    "df.head()"
   ]
  },
  {
   "cell_type": "code",
   "execution_count": null,
   "metadata": {},
   "outputs": [],
   "source": [
    "df[\"TotalPrice\"] = df[\"Quantity\"] * df[\"Price\"]"
   ]
  },
  {
   "cell_type": "code",
   "execution_count": null,
   "metadata": {},
   "outputs": [],
   "source": [
    "df[\"InvoiceDate\"].max()\n",
    "today_date = dt.datetime(2011, 12, 11)"
   ]
  },
  {
   "cell_type": "markdown",
   "metadata": {},
   "source": [
    "#############################################\n",
    "# RFM Table\n",
    "#############################################"
   ]
  },
  {
   "cell_type": "code",
   "execution_count": null,
   "metadata": {},
   "outputs": [],
   "source": [
    "# Recency kullanıcıya özel dinamik.\n",
    "rfm = df.groupby('Customer ID').agg({'InvoiceDate': [lambda date: (date.max() - date.min()).days,\n",
    "                                                     lambda date: (today_date - date.min()).days],#Tenure\n",
    "                                     'Invoice': lambda num: num.nunique(),\n",
    "                                     'TotalPrice': lambda TotalPrice: TotalPrice.sum()})\n",
    "\n",
    "rfm.columns = rfm.columns.droplevel(0)\n",
    "rfm.head()"
   ]
  },
  {
   "cell_type": "code",
   "execution_count": null,
   "metadata": {},
   "outputs": [],
   "source": [
    "## recency_cltv_p\n",
    "rfm.columns = ['recency_cltv_p', 'T', 'frequency', 'monetary']"
   ]
  },
  {
   "cell_type": "code",
   "execution_count": null,
   "metadata": {},
   "outputs": [],
   "source": [
    "## basitleştirilmiş monetary_avg\n",
    "rfm[\"monetary\"] = rfm[\"monetary\"] / rfm[\"frequency\"]\n",
    "rfm.rename(columns={\"monetary\": \"monetary_avg\"}, inplace=True)"
   ]
  },
  {
   "cell_type": "markdown",
   "metadata": {},
   "source": [
    "## BGNBD için WEEKLY RECENCY VE WEEKLY T'nin HESAPLANMASI"
   ]
  },
  {
   "cell_type": "code",
   "execution_count": null,
   "metadata": {},
   "outputs": [],
   "source": [
    "## recency_weekly_p\n",
    "rfm[\"recency_weekly_p\"] = rfm[\"recency_cltv_p\"] / 7\n",
    "rfm[\"T_weekly\"] = rfm[\"T\"] / 7\n",
    "rfm.head()"
   ]
  },
  {
   "cell_type": "code",
   "execution_count": null,
   "metadata": {},
   "outputs": [],
   "source": [
    "# KONTROL\n",
    "rfm = rfm[rfm[\"monetary_avg\"] > 0]"
   ]
  },
  {
   "cell_type": "code",
   "execution_count": null,
   "metadata": {},
   "outputs": [],
   "source": [
    "## freq > 1\n",
    "rfm = rfm[(rfm['frequency'] > 1)]\n",
    "rfm[\"frequency\"] = rfm[\"frequency\"].astype(int)"
   ]
  },
  {
   "cell_type": "code",
   "execution_count": null,
   "metadata": {},
   "outputs": [],
   "source": [
    "# Beklenen satışların tahmini bu modelle yapılır.\n",
    "# pip install lifetimes\n",
    "\n",
    "bgf = BetaGeoFitter(penalizer_coef=0.001)\n",
    "\n",
    "bgf.fit(rfm['frequency'],\n",
    "        rfm['recency_weekly_p'],\n",
    "        rfm['T_weekly'])"
   ]
  },
  {
   "cell_type": "code",
   "execution_count": null,
   "metadata": {},
   "outputs": [],
   "source": [
    "################################################################\n",
    "# 1 hafta içinde en çok satın alma beklediğimiz 10 müşteri kimdir?\n",
    "################################################################\n",
    "\n",
    "bgf.conditional_expected_number_of_purchases_up_to_time(1,\n",
    "                                                        rfm['frequency'],\n",
    "                                                        rfm['recency_weekly_p'],\n",
    "                                                        rfm['T_weekly']).sort_values(ascending=False).head(10)\n"
   ]
  },
  {
   "cell_type": "code",
   "execution_count": null,
   "metadata": {},
   "outputs": [],
   "source": [
    "#expected number of purchases= beklenen satın alma sayısı\n",
    "rfm[\"expected_number_of_purchases\"] = bgf.predict(1,\n",
    "                                                  rfm['frequency'],\n",
    "                                                  rfm['recency_weekly_p'],\n",
    "                                                  rfm['T_weekly'])\n",
    "\n",
    "rfm.head()"
   ]
  },
  {
   "cell_type": "code",
   "execution_count": null,
   "metadata": {},
   "outputs": [],
   "source": [
    "################################################################\n",
    "# 1 ay içinde en çok satın alma beklediğimiz 10 müşteri kimdir?\n",
    "################################################################\n",
    "\n",
    "\n",
    "bgf.predict(4,#hafta sayısını gösterir\n",
    "            rfm['frequency'],\n",
    "            rfm['recency_weekly_p'],\n",
    "            rfm['T_weekly']).sort_values(ascending=False).head(10)\n",
    "\n",
    "rfm[\"expected_number_of_purchases\"] = bgf.predict(4,\n",
    "                                                  rfm['frequency'],\n",
    "                                                  rfm['recency_weekly_p'],\n",
    "                                                  rfm['T_weekly'])\n",
    "\n",
    "rfm.sort_values(\"expected_number_of_purchases\", ascending=False).head(20)"
   ]
  },
  {
   "cell_type": "code",
   "execution_count": null,
   "metadata": {},
   "outputs": [],
   "source": [
    "################################################################\n",
    "# 1 Ay içinde tüm Şirketin Beklenen Satış Sayısı Nedir?\n",
    "################################################################\n",
    "\n",
    "bgf.predict(4,\n",
    "            rfm['frequency'],\n",
    "            rfm['recency_weekly_p'],\n",
    "            rfm['T_weekly']).sum()"
   ]
  },
  {
   "cell_type": "code",
   "execution_count": null,
   "metadata": {},
   "outputs": [],
   "source": [
    "################################################################\n",
    "# 3 Ayda Tüm Şirketin Beklenen Satış Sayısı Nedir?\n",
    "################################################################\n",
    "bgf.predict(4 * 3,\n",
    "            rfm['frequency'],\n",
    "            rfm['recency_weekly_p'],\n",
    "            rfm['T_weekly']).sum()"
   ]
  },
  {
   "cell_type": "code",
   "execution_count": null,
   "metadata": {},
   "outputs": [],
   "source": [
    "################################################################\n",
    "# Tahmin Sonuçlarının Değerlendirilmesi\n",
    "################################################################\n",
    "plot_period_transactions(bgf)\n",
    "plt.show()"
   ]
  },
  {
   "cell_type": "code",
   "execution_count": null,
   "metadata": {},
   "outputs": [],
   "source": [
    "##############################################################\n",
    "# 3. GAMMA-GAMMA Modelinin Kurulması\n",
    "#beklenen karlılığın hesaplanması\n",
    "##############################################################\n",
    "\n",
    "\n",
    "ggf = GammaGammaFitter(penalizer_coef=0.01)\n",
    "ggf.fit(rfm['frequency'], rfm['monetary_avg'])\n",
    "\n",
    "#En değerli 10 müşteri\n",
    "ggf.conditional_expected_average_profit(rfm['frequency'],\n",
    "                                        rfm['monetary_avg']).head(10)\n",
    "#sıralarsak;\n",
    "ggf.conditional_expected_average_profit(rfm['frequency'],\n",
    "                                        rfm['monetary_avg']).sort_values(ascending=False).head(10)\n",
    "\n",
    "rfm[\"expected_average_profit\"] = ggf.conditional_expected_average_profit(rfm['frequency'],\n",
    "                                                                         rfm['monetary_avg'])\n",
    "\n",
    "rfm.sort_values(\"expected_average_profit\", ascending=False).head(20)"
   ]
  },
  {
   "cell_type": "markdown",
   "metadata": {},
   "source": [
    "##############################################################\n",
    "# 4. BG-NBD ve GG modeli ile CLTV'nin hesaplanması.\n",
    "##############################################################"
   ]
  },
  {
   "cell_type": "code",
   "execution_count": null,
   "metadata": {},
   "outputs": [],
   "source": [
    "cltv = ggf.customer_lifetime_value(bgf,\n",
    "                                   rfm['frequency'],\n",
    "                                   rfm['recency_weekly_p'],\n",
    "                                   rfm['T_weekly'],\n",
    "                                   rfm['monetary_avg'],\n",
    "                                   time=6,  # 6 aylık\n",
    "                                   freq=\"W\",  # T'nin frekans bilgisi.\n",
    "                                   discount_rate=0.01)\n",
    "\n",
    "cltv.head()"
   ]
  },
  {
   "cell_type": "code",
   "execution_count": null,
   "metadata": {},
   "outputs": [],
   "source": [
    "cltv.shape"
   ]
  },
  {
   "cell_type": "code",
   "execution_count": null,
   "metadata": {},
   "outputs": [],
   "source": [
    "cltv = cltv.reset_index()\n",
    "cltv.sort_values(by=\"clv\", ascending=False).head()"
   ]
  },
  {
   "cell_type": "code",
   "execution_count": null,
   "metadata": {},
   "outputs": [],
   "source": [
    "rfm_cltv_final = rfm.merge(cltv, on=\"Customer ID\", how=\"left\")\n",
    "rfm_cltv_final.head()"
   ]
  },
  {
   "cell_type": "code",
   "execution_count": null,
   "metadata": {},
   "outputs": [],
   "source": [
    "rfm_cltv_final.sort_values(by=\"clv\", ascending=False).head(20)"
   ]
  },
  {
   "cell_type": "code",
   "execution_count": null,
   "metadata": {},
   "outputs": [],
   "source": [
    "#2010-2011 UK müşterileri için 1 aylık ve 12 aylık CLTV hesabı.\n",
    "cltv = ggf.customer_lifetime_value(bgf,\n",
    "                                   rfm['frequency'],\n",
    "                                   rfm['recency_weekly_p'],\n",
    "                                   rfm['T_weekly'],\n",
    "                                   rfm['monetary_avg'],\n",
    "                                   time=1,  # 1 aylık\n",
    "                                   freq=\"W\",  # T'nin frekans bilgisi.\n",
    "                                   discount_rate=0.01)\n",
    "\n",
    "cltv.head()"
   ]
  },
  {
   "cell_type": "code",
   "execution_count": null,
   "metadata": {},
   "outputs": [],
   "source": [
    "cltv = cltv.reset_index()\n",
    "cltv.sort_values(by=\"clv\", ascending=False).head(12)"
   ]
  },
  {
   "cell_type": "code",
   "execution_count": null,
   "metadata": {},
   "outputs": [],
   "source": [
    "rfm_cltv_final = rfm.merge(cltv, on=\"Customer ID\", how=\"left\")\n",
    "rfm_cltv_final.head()"
   ]
  },
  {
   "cell_type": "code",
   "execution_count": null,
   "metadata": {},
   "outputs": [],
   "source": [
    "cltv = ggf.customer_lifetime_value(bgf,\n",
    "                                   rfm['frequency'],\n",
    "                                   rfm['recency_weekly_p'],\n",
    "                                   rfm['T_weekly'],\n",
    "                                   rfm['monetary_avg'],\n",
    "                                   time=12,  # 12 aylık\n",
    "                                   freq=\"W\",  # T'nin frekans bilgisi.\n",
    "                                   discount_rate=0.01)\n",
    "\n",
    "cltv.head()"
   ]
  },
  {
   "cell_type": "code",
   "execution_count": null,
   "metadata": {},
   "outputs": [],
   "source": [
    "cltv.shape"
   ]
  },
  {
   "cell_type": "code",
   "execution_count": null,
   "metadata": {},
   "outputs": [],
   "source": [
    "cltv = cltv.reset_index()\n",
    "cltv.sort_values(by=\"clv\", ascending=False).head(12)"
   ]
  },
  {
   "cell_type": "code",
   "execution_count": null,
   "metadata": {},
   "outputs": [],
   "source": [
    "rfm_cltv_final = rfm.merge(cltv, on=\"Customer ID\", how=\"left\")\n",
    "rfm_cltv_final.head()"
   ]
  },
  {
   "cell_type": "code",
   "execution_count": null,
   "metadata": {},
   "outputs": [],
   "source": [
    "#2010-2011 UK müşterileri için 6 aylık CLTV'ye göre tüm müşterilerin 3 segmente ayrılması."
   ]
  },
  {
   "cell_type": "code",
   "execution_count": null,
   "metadata": {},
   "outputs": [],
   "source": [
    "cltv = ggf.customer_lifetime_value(bgf,\n",
    "                                   rfm['frequency'],\n",
    "                                   rfm['recency_weekly_p'],\n",
    "                                   rfm['T_weekly'],\n",
    "                                   rfm['monetary_avg'],\n",
    "                                   time=6,  # 6 aylık\n",
    "                                   freq=\"W\",  # T'nin frekans bilgisi.\n",
    "                                   discount_rate=0.01)\n",
    "\n",
    "cltv.head()"
   ]
  },
  {
   "cell_type": "code",
   "execution_count": null,
   "metadata": {},
   "outputs": [],
   "source": [
    "cltv.shape[0]"
   ]
  },
  {
   "cell_type": "code",
   "execution_count": null,
   "metadata": {},
   "outputs": [],
   "source": [
    "cltv = cltv.reset_index()\n",
    "cltv.sort_values(by=\"clv\", ascending=False).head()"
   ]
  },
  {
   "cell_type": "code",
   "execution_count": null,
   "metadata": {},
   "outputs": [],
   "source": [
    "rfm_cltv_final = rfm.merge(cltv, on=\"Customer ID\", how=\"left\")\n",
    "rfm_cltv_final.head()"
   ]
  },
  {
   "cell_type": "code",
   "execution_count": null,
   "metadata": {},
   "outputs": [],
   "source": [
    "rfm_cltv_final[\"segment\"] = pd.qcut(rfm_cltv_final[\"clv\"], 3, labels=[\"C\", \"B\", \"A\"])\n",
    "rfm_cltv_final = rfm_cltv_final.sort_values(by=\"clv\", ascending=False)\n",
    "rfm_cltv_final=rfm_cltv_final.reset_index()\n",
    "rfm_cltv_final.head()"
   ]
  },
  {
   "cell_type": "code",
   "execution_count": null,
   "metadata": {},
   "outputs": [],
   "source": [
    "len(rfm_cltv_final)"
   ]
  },
  {
   "cell_type": "code",
   "execution_count": null,
   "metadata": {},
   "outputs": [],
   "source": [
    "#CLTV'ye göre en iyi yüzde 20 dilimindekiler"
   ]
  },
  {
   "cell_type": "code",
   "execution_count": null,
   "metadata": {},
   "outputs": [],
   "source": [
    "(rfm_cltv_final.shape[0] *0.20)"
   ]
  },
  {
   "cell_type": "code",
   "execution_count": null,
   "metadata": {},
   "outputs": [],
   "source": [
    "rfm_cltv_final[\"top_flag\"] = 0\n",
    "rfm_cltv_final[\"top_flag\"].iloc[0:515] = 1"
   ]
  },
  {
   "cell_type": "code",
   "execution_count": null,
   "metadata": {},
   "outputs": [],
   "source": [
    "rfm_cltv_final.head()"
   ]
  },
  {
   "cell_type": "code",
   "execution_count": null,
   "metadata": {},
   "outputs": [],
   "source": []
  },
  {
   "cell_type": "code",
   "execution_count": null,
   "metadata": {},
   "outputs": [],
   "source": []
  },
  {
   "cell_type": "code",
   "execution_count": null,
   "metadata": {},
   "outputs": [],
   "source": []
  },
  {
   "cell_type": "code",
   "execution_count": null,
   "metadata": {},
   "outputs": [],
   "source": []
  }
 ],
 "metadata": {
  "kernelspec": {
   "display_name": "Python 3",
   "language": "python",
   "name": "python3"
  },
  "language_info": {
   "codemirror_mode": {
    "name": "ipython",
    "version": 3
   },
   "file_extension": ".py",
   "mimetype": "text/x-python",
   "name": "python",
   "nbconvert_exporter": "python",
   "pygments_lexer": "ipython3",
   "version": "3.7.6"
  }
 },
 "nbformat": 4,
 "nbformat_minor": 4
}
