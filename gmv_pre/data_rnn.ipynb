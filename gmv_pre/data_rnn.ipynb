{
 "cells": [
  {
   "cell_type": "code",
   "execution_count": 1,
   "metadata": {},
   "outputs": [],
   "source": [
    "import  numpy as np\n",
    "import  torch\n",
    "import  torch.nn as nn\n",
    "import  torch.optim as optim\n",
    "from    matplotlib import pyplot as plt\n",
    "import pandas as pd\n",
    "from tqdm.notebook import tqdm as tqdm\n",
    "import random\n",
    "def set_seed(seed=42):\n",
    "    random.seed(seed)\n",
    "    np.random.seed(seed)\n",
    "    torch.manual_seed(seed)\n",
    "    torch.cuda.manual_seed_all(seed)\n",
    "    torch.backends.cudnn.deterministic = True"
   ]
  },
  {
   "cell_type": "code",
   "execution_count": 2,
   "metadata": {},
   "outputs": [],
   "source": [
    "input_size = 2\n",
    "hidden_size = 32\n",
    "output_size = 1\n",
    "lr=0.001"
   ]
  },
  {
   "cell_type": "code",
   "execution_count": 3,
   "metadata": {},
   "outputs": [
    {
     "data": {
      "text/html": [
       "<div>\n",
       "<style scoped>\n",
       "    .dataframe tbody tr th:only-of-type {\n",
       "        vertical-align: middle;\n",
       "    }\n",
       "\n",
       "    .dataframe tbody tr th {\n",
       "        vertical-align: top;\n",
       "    }\n",
       "\n",
       "    .dataframe thead th {\n",
       "        text-align: right;\n",
       "    }\n",
       "</style>\n",
       "<table border=\"1\" class=\"dataframe\">\n",
       "  <thead>\n",
       "    <tr style=\"text-align: right;\">\n",
       "      <th></th>\n",
       "      <th>status</th>\n",
       "      <th>payment</th>\n",
       "      <th>year-month-day</th>\n",
       "      <th>year-month</th>\n",
       "    </tr>\n",
       "  </thead>\n",
       "  <tbody>\n",
       "    <tr>\n",
       "      <th>0</th>\n",
       "      <td>6</td>\n",
       "      <td>3350.0</td>\n",
       "      <td>2020-01-01</td>\n",
       "      <td>2020-01</td>\n",
       "    </tr>\n",
       "    <tr>\n",
       "      <th>1</th>\n",
       "      <td>6</td>\n",
       "      <td>2090.0</td>\n",
       "      <td>2020-01-01</td>\n",
       "      <td>2020-01</td>\n",
       "    </tr>\n",
       "    <tr>\n",
       "      <th>2</th>\n",
       "      <td>6</td>\n",
       "      <td>3590.0</td>\n",
       "      <td>2020-01-01</td>\n",
       "      <td>2020-01</td>\n",
       "    </tr>\n",
       "    <tr>\n",
       "      <th>3</th>\n",
       "      <td>6</td>\n",
       "      <td>3290.0</td>\n",
       "      <td>2020-01-01</td>\n",
       "      <td>2020-01</td>\n",
       "    </tr>\n",
       "    <tr>\n",
       "      <th>4</th>\n",
       "      <td>6</td>\n",
       "      <td>3090.0</td>\n",
       "      <td>2020-01-01</td>\n",
       "      <td>2020-01</td>\n",
       "    </tr>\n",
       "  </tbody>\n",
       "</table>\n",
       "</div>"
      ],
      "text/plain": [
       "   status  payment year-month-day year-month\n",
       "0       6   3350.0     2020-01-01    2020-01\n",
       "1       6   2090.0     2020-01-01    2020-01\n",
       "2       6   3590.0     2020-01-01    2020-01\n",
       "3       6   3290.0     2020-01-01    2020-01\n",
       "4       6   3090.0     2020-01-01    2020-01"
      ]
     },
     "execution_count": 3,
     "metadata": {},
     "output_type": "execute_result"
    }
   ],
   "source": [
    "data = pd.read_csv('data1.csv',encoding='utf-8')\n",
    "date = data['take_at'].str.split(' ').str[0]\n",
    "data['year-month-day']=date\n",
    "data['year-month'] = date.str.split('-').str[0]+'-'+date.str.split('-').str[1]\n",
    "data_last = data[['status','payment','year-month-day','year-month']]\n",
    "data_last=data_last[data_last['status']==6]\n",
    "data_last.head()"
   ]
  },
  {
   "cell_type": "code",
   "execution_count": 4,
   "metadata": {},
   "outputs": [
    {
     "name": "stdout",
     "output_type": "stream",
     "text": [
      "天数：547天\n",
      "周数：78周\n"
     ]
    }
   ],
   "source": [
    "data_day = data_last.groupby('year-month-day')\n",
    "# 每一天的GMV数据(status=6)\n",
    "day_ = list(data_day)\n",
    "gmv_day= []\n",
    "for i in range(len(list(data_day))):\n",
    "    gmv_1=day_[i][1]['payment'].sum()\n",
    "    gmv_day.append(gmv_1)\n",
    "print(f'天数：{len(gmv_day)}天')\n",
    "    \n",
    "# 由于一共547天,不是7的整数倍，所以取到前546天的数据作为周的数据来源\n",
    "gmv_week=[]\n",
    "m,n=0,0\n",
    "for i in range(len(gmv_day)):\n",
    "    m+=gmv_day[i]\n",
    "    n+=1\n",
    "    if n%7==0:\n",
    "        gmv_week.append(m)\n",
    "        n=0\n",
    "        m=0\n",
    "print(f'周数：{len(gmv_week)}周')"
   ]
  },
  {
   "cell_type": "code",
   "execution_count": 5,
   "metadata": {},
   "outputs": [
    {
     "name": "stdout",
     "output_type": "stream",
     "text": [
      "训练集的周gmv最大值是：235778339.27999997\n",
      "75\n",
      "75\n",
      "[[0.91978803 0.90227695]\n",
      " [0.90227695 0.90384996]\n",
      " [0.90384996 0.87943916]\n",
      " [0.87943916 0.87702593]\n",
      " [0.87702593 0.90383576]\n",
      " [0.90383576 0.91771535]\n",
      " [0.91771535 0.90034988]\n",
      " [0.90034988 0.88628523]\n",
      " [0.88628523 0.93766217]\n",
      " [0.93766217 0.87500451]\n",
      " [0.87500451 0.87412754]\n",
      " [0.87412754 0.84573072]\n",
      " [0.84573072 0.87411884]\n",
      " [0.87411884 0.85682973]\n",
      " [0.85682973 0.89645163]\n",
      " [0.89645163 0.87781099]\n",
      " [0.87781099 0.91630852]\n",
      " [0.91630852 0.89366148]\n",
      " [0.89366148 0.88715631]\n",
      " [0.88715631 0.8929179 ]\n",
      " [0.8929179  0.96008791]\n",
      " [0.96008791 0.90463424]\n",
      " [0.90463424 0.95604696]\n",
      " [0.95604696 0.93997503]\n",
      " [0.93997503 0.87862646]\n",
      " [0.87862646 0.84170826]\n",
      " [0.84170826 0.86774768]\n",
      " [0.86774768 0.85952107]\n",
      " [0.85952107 0.86141722]\n",
      " [0.86141722 0.85262826]\n",
      " [0.85262826 0.87680306]\n",
      " [0.87680306 0.87366386]\n",
      " [0.87366386 0.89875791]\n",
      " [0.89875791 0.85245711]\n",
      " [0.85245711 0.84320197]\n",
      " [0.84320197 0.89419938]\n",
      " [0.89419938 0.86393511]\n",
      " [0.86393511 0.86294354]\n",
      " [0.86294354 0.86749986]\n",
      " [0.86749986 0.85109192]\n",
      " [0.85109192 0.82288392]\n",
      " [0.82288392 0.99607881]\n",
      " [0.99607881 1.        ]\n",
      " [1.         0.95945284]\n",
      " [0.95945284 0.97964778]\n",
      " [0.97964778 0.83714266]\n",
      " [0.83714266 0.89814054]\n",
      " [0.89814054 0.83861281]\n",
      " [0.83861281 0.95119928]\n",
      " [0.95119928 0.89469976]\n",
      " [0.89469976 0.86482578]\n",
      " [0.86482578 0.88410048]\n",
      " [0.88410048 0.88800906]\n",
      " [0.88800906 0.87194552]\n",
      " [0.87194552 0.9333073 ]\n",
      " [0.9333073  0.90193487]\n",
      " [0.90193487 0.90602187]\n",
      " [0.90602187 0.89134522]\n",
      " [0.89134522 0.86487658]\n",
      " [0.86487658 0.89627712]\n",
      " [0.89627712 0.95961611]\n",
      " [0.95961611 0.85908261]\n",
      " [0.85908261 0.8361739 ]\n",
      " [0.8361739  0.87853093]\n",
      " [0.87853093 0.89715843]\n",
      " [0.89715843 0.92750983]\n",
      " [0.92750983 0.87043013]\n",
      " [0.87043013 0.86880567]\n",
      " [0.86880567 0.87564099]\n",
      " [0.87564099 0.87733989]\n",
      " [0.87733989 0.87580551]\n",
      " [0.87580551 0.93231434]\n",
      " [0.93231434 0.95255814]\n",
      " [0.95255814 0.92254204]\n",
      " [0.92254204 0.92423398]]\n",
      "[0.90384996 0.87943916 0.87702593 0.90383576 0.91771535 0.90034988\n",
      " 0.88628523 0.93766217 0.87500451 0.87412754 0.84573072 0.87411884\n",
      " 0.85682973 0.89645163 0.87781099 0.91630852 0.89366148 0.88715631\n",
      " 0.8929179  0.96008791 0.90463424 0.95604696 0.93997503 0.87862646\n",
      " 0.84170826 0.86774768 0.85952107 0.86141722 0.85262826 0.87680306\n",
      " 0.87366386 0.89875791 0.85245711 0.84320197 0.89419938 0.86393511\n",
      " 0.86294354 0.86749986 0.85109192 0.82288392 0.99607881 1.\n",
      " 0.95945284 0.97964778 0.83714266 0.89814054 0.83861281 0.95119928\n",
      " 0.89469976 0.86482578 0.88410048 0.88800906 0.87194552 0.9333073\n",
      " 0.90193487 0.90602187 0.89134522 0.86487658 0.89627712 0.95961611\n",
      " 0.85908261 0.8361739  0.87853093 0.89715843 0.92750983 0.87043013\n",
      " 0.86880567 0.87564099 0.87733989 0.87580551 0.93231434 0.95255814\n",
      " 0.92254204 0.92423398 0.95423849]\n"
     ]
    }
   ],
   "source": [
    "print(f'训练集的周gmv最大值是：{max(gmv_week[:52])}')\n",
    "mid_ = []\n",
    "x_data = []\n",
    "for i in range(len(gmv_week)):\n",
    "    if i>len(gmv_week)-3:\n",
    "        break\n",
    "    mid_.append(gmv_week[i])\n",
    "    mid_.append(gmv_week[i+1])\n",
    "    x_data.append(mid_)\n",
    "    mid_ = []\n",
    "    \n",
    "# from sklearn import preprocessing\n",
    "# RobustScaler = preprocessing.RobustScaler()\n",
    "# x_data=RobustScaler.fit_transform(x_data)\n",
    "\n",
    "x_data = np.log(x_data)\n",
    "x_data = x_data/np.log(max(gmv_week[:52]))\n",
    "y_data=[x[1] for x in x_data][1:]\n",
    "x_data = x_data[:-1]\n",
    "print(len(x_data))\n",
    "print(len(y_data))\n",
    "print(np.array(x_data))\n",
    "print(np.array(y_data))"
   ]
  },
  {
   "cell_type": "code",
   "execution_count": 6,
   "metadata": {},
   "outputs": [],
   "source": [
    "class Net(nn.Module):\n",
    "    def __init__(self, ):\n",
    "        super(Net, self).__init__()\n",
    "\n",
    "        self.rnn = nn.RNN(\n",
    "            input_size=input_size,\n",
    "            hidden_size=hidden_size,\n",
    "            num_layers=1,\n",
    "            batch_first=True,\n",
    "        )\n",
    "        for p in self.rnn.parameters():\n",
    "            nn.init.normal_(p, mean=0.0, std=0.001)\n",
    "        \n",
    "        self.linear1 = nn.Linear(hidden_size, 128)\n",
    "        self.linear2 = nn.Linear(128, output_size)\n",
    "    def forward(self, x, hidden_prev):\n",
    "        out, hidden_prev = self.rnn(x, hidden_prev)\n",
    "       # [b, seq, h]\n",
    "        out = out.view(-1, hidden_size)\n",
    "        out = self.linear1(out)\n",
    "        out = self.linear2(out)\n",
    "        out = out.unsqueeze(dim=0)\n",
    "        return out, hidden_prev\n"
   ]
  },
  {
   "cell_type": "code",
   "execution_count": 7,
   "metadata": {
    "scrolled": true
   },
   "outputs": [
    {
     "name": "stdout",
     "output_type": "stream",
     "text": [
      "训练数据50条\n",
      "测试数据25条\n"
     ]
    }
   ],
   "source": [
    "# 构造训练数据\n",
    "x = torch.tensor(np.reshape(x_data, (1, len(x_data), 2)))\n",
    "y = torch.tensor(np.reshape(y_data, (1, len(x_data), 1)))\n",
    "x_train = x[:,:50,:]\n",
    "x_test = x[:,50:,:]\n",
    "y_train = y[:,:50,:]\n",
    "y_test = y[:,50:,:]\n",
    "print(f'训练数据{len(x_data[:50])}条')\n",
    "print(f'测试数据{len(x_data[50:])}条')"
   ]
  },
  {
   "cell_type": "code",
   "execution_count": 8,
   "metadata": {},
   "outputs": [
    {
     "name": "stdout",
     "output_type": "stream",
     "text": [
      "开始训练，训练集的数据长度是50\n"
     ]
    },
    {
     "data": {
      "application/vnd.jupyter.widget-view+json": {
       "model_id": "5461a5433e704adb9239c31fe05346a4",
       "version_major": 2,
       "version_minor": 0
      },
      "text/plain": [
       "HBox(children=(FloatProgress(value=0.0, max=2000.0), HTML(value='')))"
      ]
     },
     "metadata": {},
     "output_type": "display_data"
    },
    {
     "name": "stdout",
     "output_type": "stream",
     "text": [
      "Iteration:0---train_loss:0.6014301827734913---test_loss 0.5752097800165364\n",
      "Iteration:100---train_loss:0.001590686511086706---test_loss 0.0010544979272007504\n",
      "Iteration:200---train_loss:0.0015884770674699509---test_loss 0.0010525194552436473\n",
      "Iteration:300---train_loss:0.001586855882063477---test_loss 0.0010521039606474869\n",
      "Iteration:400---train_loss:0.0015849035412563248---test_loss 0.0010512911310400176\n",
      "Iteration:500---train_loss:0.0015826536630146328---test_loss 0.0010503440735735144\n",
      "Iteration:600---train_loss:0.0015801305801892956---test_loss 0.0010492715862111277\n",
      "Iteration:700---train_loss:0.001577353039154866---test_loss 0.0010480785747838776\n",
      "Iteration:800---train_loss:0.0015743372405875734---test_loss 0.0010467674273580668\n",
      "Iteration:900---train_loss:0.001571099681480556---test_loss 0.0010453416779024173\n",
      "Iteration:1000---train_loss:0.0015676552185448123---test_loss 0.001043804914295801\n",
      "Iteration:1100---train_loss:0.001564023375675985---test_loss 0.0010421634537706823\n",
      "Iteration:1200---train_loss:0.0015602230749566166---test_loss 0.001040420050177771\n",
      "Iteration:1300---train_loss:0.0015562731595623724---test_loss 0.0010385854755792683\n",
      "Iteration:1400---train_loss:0.0015521980269059923---test_loss 0.0010366672005374907\n",
      "Iteration:1500---train_loss:0.0015480230901579344---test_loss 0.001034680962359719\n",
      "Iteration:1600---train_loss:0.0015437751403129707---test_loss 0.0010326423298998792\n",
      "Iteration:1700---train_loss:0.0015394797389831456---test_loss 0.0010305715286161973\n",
      "Iteration:1800---train_loss:0.0015351681317252717---test_loss 0.001028496485750864\n",
      "Iteration:1900---train_loss:0.0015308649920601084---test_loss 0.001026447475782017\n",
      "\n"
     ]
    }
   ],
   "source": [
    "set_seed(seed=42)\n",
    "print(f'开始训练，训练集的数据长度是{x_train.shape[1]}')\n",
    "# 定义模型\n",
    "model = Net()\n",
    "criterion = nn.MSELoss()\n",
    "optimizer = optim.Adam(model.parameters(), lr)\n",
    "hidden_prev = torch.ones(1, 1, hidden_size)\n",
    "for iter in tqdm(range(2000)):\n",
    "    x_train = torch.as_tensor(x_train, dtype=torch.float32)\n",
    "    output, hidden_prev = model(x_train, hidden_prev)\n",
    "    hidden_prev = hidden_prev.detach()\n",
    "    output = output.double()\n",
    "    loss = criterion(output, y_train)\n",
    "    model.zero_grad()\n",
    "    loss.backward()\n",
    "    optimizer.step()\n",
    "    if iter % 100 == 0:\n",
    "        x_test = torch.as_tensor(x_test, dtype=torch.float32)\n",
    "        (pred1, hidden_prev) = model(x_test, hidden_prev)\n",
    "        pred1 = pred1.double()\n",
    "        loss1 = criterion(pred1, y_test)\n",
    "        print(f\"Iteration:{iter}---train_loss:{loss.item()}---test_loss {loss1.item()}\")\n",
    "pre_last=[]\n",
    "tru_last=[]\n",
    "for i ,j in zip(np.array(pred1.detach().numpy()[0]),np.array(y_test[0])):\n",
    "    pre_last.append(np.exp(i[0]*np.log(max(gmv_week[:52]))))\n",
    "    tru_last.append(np.exp(j[0]*np.log(max(gmv_week[:52]))))"
   ]
  },
  {
   "cell_type": "markdown",
   "metadata": {},
   "source": [
    "### 结果记录\n",
    "1000:test_loss 7.720046910337566e-08 \n",
    "\n",
    "2000:test_loss 3.789853078204497e-08"
   ]
  },
  {
   "cell_type": "code",
   "execution_count": 9,
   "metadata": {},
   "outputs": [
    {
     "name": "stdout",
     "output_type": "stream",
     "text": [
      "------周级别上rmse：28509758.358424224\n",
      "------周级别上mape：45.69616339372893%\n",
      "[26662057.59217376 26588263.70059847 27994352.68542106 26841023.59176973\n",
      " 31542944.64722073 32361439.69816523 30799393.24757595 29605893.66765099\n",
      " 26430625.72222625 27645814.86065626 36006646.34076471 29841013.36635747\n",
      " 22625375.73083143 24611807.09134269 28480725.0477804  32614919.93420494\n",
      " 28965460.90027209 25657170.17901597 26086085.03533568 26609628.2004769\n",
      " 26578519.36534303 31687022.11520366 37917960.33714967 35988694.24042961\n",
      " 34027527.85298485]\n",
      "[2.52426364e+07 2.72181972e+07 1.99695038e+07 6.51806993e+07\n",
      " 3.56002621e+07 3.85186998e+07 2.90262781e+07 1.74253923e+07\n",
      " 3.19215282e+07 1.08240457e+08 1.55837699e+07 1.00200353e+07\n",
      " 2.26727225e+07 3.24685145e+07 5.82880648e+07 1.93945481e+07\n",
      " 1.87965796e+07 2.14440879e+07 2.21580539e+07 2.15122107e+07\n",
      " 6.39448340e+07 9.44706167e+07 5.29647342e+07 5.47208260e+07\n",
      " 9.75810444e+07]\n"
     ]
    },
    {
     "data": {
      "text/plain": [
       "'E:\\\\py_\\\\out_work\\\\YJF_jp_work\\\\rnn模型在测试集上预测结果.html'"
      ]
     },
     "execution_count": 9,
     "metadata": {},
     "output_type": "execute_result"
    }
   ],
   "source": [
    "from pyecharts.charts import Line\n",
    "from pyecharts import options as opts\n",
    "\n",
    "def mape(y_true, y_pred):\n",
    "    \"\"\"\n",
    "    参数:\n",
    "    y_true -- 测试集目标真实值\n",
    "    y_pred -- 测试集目标预测值\n",
    "    返回:\n",
    "    mape -- MAPE 评价指标\n",
    "    \"\"\"\n",
    "    n = len(y_true)\n",
    "    mape = sum(np.abs((y_true - y_pred)/y_true))/n*100\n",
    "    return mape\n",
    "\n",
    "print(f'------周级别上rmse：{np.sqrt(np.average((np.array(pre_last) - np.array(tru_last)) ** 2))}')\n",
    "print(f'------周级别上mape：{mape(np.array(tru_last),np.array(pre_last))}%')\n",
    "print(np.array(pre_last))\n",
    "print(np.array(tru_last))\n",
    "\n",
    "\n",
    "\n",
    "year_num1 = tru_last\n",
    "year_num2 = pre_last\n",
    "def line_charts() -> Line:\n",
    "    line = (\n",
    "        Line()\n",
    "        .add_xaxis(range(len(year_num1)))\n",
    "        .add_yaxis(\n",
    "            \"真实值\",\n",
    "            year_num1\n",
    "        )\n",
    "        .add_yaxis(\n",
    "            \"预测值\",\n",
    "            year_num2\n",
    "        )\n",
    "        .set_global_opts(title_opts=opts.TitleOpts(title=\"rnn周gmv预测图\")\n",
    "                         ,yaxis_opts=opts.AxisOpts(name=\"GMV\")\n",
    "                         ,xaxis_opts=opts.AxisOpts(name=\"时间\"),)\n",
    "        .set_series_opts(\n",
    "            label_opts=opts.LabelOpts(is_show=False),) #\n",
    "    )\n",
    "    return line\n",
    "\n",
    "line = line_charts()\n",
    "line.render(\"rnn模型在测试集上预测结果.html\")"
   ]
  },
  {
   "cell_type": "code",
   "execution_count": null,
   "metadata": {},
   "outputs": [],
   "source": []
  },
  {
   "cell_type": "code",
   "execution_count": null,
   "metadata": {},
   "outputs": [],
   "source": []
  }
 ],
 "metadata": {
  "kernelspec": {
   "display_name": "Python 3",
   "language": "python",
   "name": "python3"
  },
  "language_info": {
   "codemirror_mode": {
    "name": "ipython",
    "version": 3
   },
   "file_extension": ".py",
   "mimetype": "text/x-python",
   "name": "python",
   "nbconvert_exporter": "python",
   "pygments_lexer": "ipython3",
   "version": "3.7.6"
  }
 },
 "nbformat": 4,
 "nbformat_minor": 4
}
