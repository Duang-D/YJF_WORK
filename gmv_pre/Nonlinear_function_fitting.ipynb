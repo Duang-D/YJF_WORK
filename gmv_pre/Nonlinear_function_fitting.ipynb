{
 "cells": [
  {
   "cell_type": "markdown",
   "metadata": {},
   "source": [
    "'''\n",
    "最小二乘法拟合函数曲线f(x)\n",
    "1、拟合多项式为：y = a0 + a1*x + a2*x^2 + ... + ak*x^k\n",
    "2、求每个点到曲线的距离之和：Loss = ∑(yi - (a0 + a1*x + a2*x^2 + ... + ak*x^k))^2\n",
    "3、最优化Loss函数，即求Loss对a0,a1,...ak的偏导数为0\n",
    "    3.1、数学解法——求解线性方程组：\n",
    "        整理最优化的偏导数矩阵为：X：含有xi的系数矩阵，A：含有ai的系数矩阵，Y：含有yi的系数矩阵\n",
    "        求解：XA=Y中的A矩阵\n",
    "    3.2、迭代解法——梯度下降法：\n",
    "        计算每个系数矩阵A[k]的梯度，并迭代更新A[k]的梯度\n",
    "        A[k] = A[k] - (learn_rate * gradient)\n",
    "'''"
   ]
  },
  {
   "cell_type": "code",
   "execution_count": 1,
   "metadata": {},
   "outputs": [],
   "source": [
    "import numpy as np\n",
    "import matplotlib.pyplot as plt\n",
    "plt.rcParams['font.sans-serif'] = ['SimHei']\n",
    "plt.rcParams['axes.unicode_minus'] = False"
   ]
  },
  {
   "cell_type": "code",
   "execution_count": 2,
   "metadata": {},
   "outputs": [],
   "source": [
    "'''高斯列主消元算法'''\n",
    "# 得到增广矩阵\n",
    "def get_augmented_matrix(matrix, b):\n",
    "    row, col = np.shape(matrix)\n",
    "    matrix = np.insert(matrix, col, values=b, axis=1)\n",
    "    return matrix\n",
    "# 取出增广矩阵的系数矩阵（第一列到倒数第二列）\n",
    "def get_matrix(a_matrix):\n",
    "    return a_matrix[:, :a_matrix.shape[1] - 1]\n",
    "# 选列主元，在第k行后的矩阵里，找出最大值和其对应的行号和列号\n",
    "def get_pos_j_max(matrix, k):\n",
    "    max_v = np.max(matrix[k:, :])\n",
    "    pos = np.argwhere(matrix == max_v)\n",
    "    i, _ = pos[0]\n",
    "    return i, max_v\n",
    "# 矩阵的第k行后，行交换\n",
    "def exchange_row(matrix, r1, r2, k):\n",
    "    matrix[[r1, r2], k:] = matrix[[r2, r1], k:]\n",
    "    return matrix\n",
    "# 消元计算(初等变化)\n",
    "def elimination(matrix, k):\n",
    "    row, col = np.shape(matrix)\n",
    "    for i in range(k + 1, row):\n",
    "        m_ik = matrix[i][k] / matrix[k][k]\n",
    "        matrix[i] = -m_ik * matrix[k] + matrix[i]\n",
    "    return matrix\n",
    "# 回代求解\n",
    "def backToSolve(a_matrix):\n",
    "    matrix = a_matrix[:, :a_matrix.shape[1] - 1]  # 得到系数矩阵\n",
    "    b_matrix = a_matrix[:, -1]  # 得到值矩阵\n",
    "    row, col = np.shape(matrix)\n",
    "    x = [None] * col  # 待求解空间X\n",
    "    # 先计算上三角矩阵对应的最后一个分量\n",
    "    x[-1] = b_matrix[col - 1] / matrix[col - 1][col - 1]\n",
    "    # 从倒数第二行开始回代x分量\n",
    "    for _ in range(col - 1, 0, -1):\n",
    "        i = _ - 1\n",
    "        sij = 0\n",
    "        xidx = len(x) - 1\n",
    "        for j in range(col - 1, i, -1):\n",
    "            sij += matrix[i][j] * x[xidx]\n",
    "            xidx -= 1\n",
    "        x[xidx] = (b_matrix[i] - sij) / matrix[i][i]\n",
    "    return x"
   ]
  },
  {
   "cell_type": "code",
   "execution_count": 3,
   "metadata": {},
   "outputs": [],
   "source": [
    "# 求解非齐次线性方程组：ax=b\n",
    "def solve_NLQ(a, b):\n",
    "    a_matrix = get_augmented_matrix(a, b)\n",
    "    for k in range(len(a_matrix) - 1):\n",
    "        # 选列主元\n",
    "        max_i, max_v = get_pos_j_max(get_matrix(a_matrix), k=k)\n",
    "        # 如果A[ik][k]=0，则矩阵奇异退出\n",
    "        if a_matrix[max_i][k] == 0:\n",
    "            print('矩阵A奇异')\n",
    "            return None, []\n",
    "        if max_i != k:\n",
    "            a_matrix = exchange_row(a_matrix, k, max_i, k=k)\n",
    "        # 消元计算\n",
    "        a_matrix = elimination(a_matrix, k=k)\n",
    "    # 回代求解\n",
    "    X = backToSolve(a_matrix)\n",
    "    return a_matrix, X"
   ]
  },
  {
   "cell_type": "code",
   "execution_count": 4,
   "metadata": {},
   "outputs": [],
   "source": [
    "'''\n",
    "最小二乘法多项式拟合曲线\n",
    "'''\n",
    "# 生成带有噪点的待拟合的数据集合\n",
    "def init_fx_data():\n",
    "    # 待拟合曲线f(x) = sin2x * [(x^2 - 1)^3 + 0.5]\n",
    "    xs = np.arange(-1, 1, 0.01)  # 200个点\n",
    "    ys = [((x ** 2 - 1) ** 3 + 0.5) * np.sin(x * 2) for x in xs]\n",
    "    ys1 = []\n",
    "    for i in range(len(ys)):\n",
    "        z = np.random.randint(low=-10, high=10) / 100  # 加入噪点\n",
    "        ys1.append(ys[i] + z)\n",
    "    return xs, ys1\n",
    "# 计算最小二乘法当前的误差\n",
    "def last_square_current_loss(xs, ys, A):\n",
    "    error = 0.0\n",
    "    for i in range(len(xs)):\n",
    "        y1 = 0.0\n",
    "        for k in range(len(A)):\n",
    "            y1 += A[k] * xs[i] ** k\n",
    "        error += (ys[i] - y1) ** 2\n",
    "    return error"
   ]
  },
  {
   "cell_type": "code",
   "execution_count": 59,
   "metadata": {},
   "outputs": [],
   "source": [
    "# 迭代解法：最小二乘法+梯度下降法\n",
    "def last_square_fit_curve_Gradient(xs, ys, order, iternum=1000, learn_rate=0.001):\n",
    "    A = [0.0] * (order + 1)\n",
    "    for r in range(iternum + 1):\n",
    "        for k in range(len(A)):\n",
    "            gradient = 0.0\n",
    "            for i in range(len(xs)):\n",
    "                y1 = 0.0\n",
    "                for j in range(len(A)):\n",
    "                    y1 += A[j] * xs[i]**j\n",
    "                gradient += -2 * (ys[i] - y1) * xs[i]**k  # 计算A[k]的梯度\n",
    "            A[k] = A[k] - (learn_rate * gradient)  # 更新A[k]的梯度\n",
    "        # 检查误差变化\n",
    "        if r % 100 == 0:\n",
    "            error = last_square_current_loss(xs=xs, ys=ys, A=A)\n",
    "            print('最小二乘法+梯度下降法：第{}次迭代，误差下降为：{}'.format(r, error))\n",
    "    return A\n",
    "# 数学解法：最小二乘法+求解线性方程组\n",
    "def last_square_fit_curve_Gauss(xs, ys, order):\n",
    "    X, Y = [], []\n",
    "    # 求解偏导数矩阵里，含有xi的系数矩阵X\n",
    "    for i in range(0, order + 1):\n",
    "        X_line = []\n",
    "        for j in range(0, order + 1):\n",
    "            sum_xi = 0.0\n",
    "            for xi in xs:\n",
    "                sum_xi += xi ** (j + i)\n",
    "            X_line.append(sum_xi)\n",
    "        X.append(X_line)\n",
    "    # 求解偏导数矩阵里，含有yi的系数矩阵Y\n",
    "    for i in range(0, order + 1):\n",
    "        Y_line = 0.0\n",
    "        for j in range(0, order + 1):\n",
    "            sum_xi_yi = 0.0\n",
    "            for k in range(len(xs)):\n",
    "                sum_xi_yi += (xs[k] ** i * ys[k])\n",
    "            Y_line = sum_xi_yi\n",
    "        Y.append(Y_line)\n",
    "    a_matrix, A = solve_NLQ(np.array(X), Y)  # 高斯消元：求解XA=Y的A\n",
    "    # A = np.linalg.solve(np.array(X), np.array(Y))  # numpy API 求解XA=Y的A\n",
    "    error = last_square_current_loss(xs=xs, ys=ys, A=A)\n",
    "    \n",
    "    print(f'拟合的多项式函数系数---a0-a{len(Y)-1}---为:{Y}')\n",
    "    print(f'最小二乘法+求解线性方程组，误差下降为：{error}')\n",
    "    return A\n",
    "# 可视化多项式曲线拟合结果\n",
    "def draw_fit_curve(xs, ys, A, order):\n",
    "    fig = plt.figure()\n",
    "    ax = fig.add_subplot(111)\n",
    "    fit_xs, fit_ys = np.arange(min(xs) * 0.8, max(xs) * 0.8, 0.01), []\n",
    "    for i in range(0, len(fit_xs)):\n",
    "        y = 0.0\n",
    "        for k in range(0, order + 1):\n",
    "            y += (A[k] * fit_xs[i] ** k)\n",
    "        fit_ys.append(y)\n",
    "    ax.plot(fit_xs, fit_ys, color='g', linestyle='-', marker='', label='多项式拟合曲线')\n",
    "    ax.plot(xs, ys, color='m', linestyle='', marker='.', label='曲线真实数据')\n",
    "    plt.title(label='最小二乘法拟合多项式N={}的函数曲线f(x)'.format(order))\n",
    "    plt.legend()\n",
    "    plt.show()"
   ]
  },
  {
   "cell_type": "code",
   "execution_count": 61,
   "metadata": {},
   "outputs": [
    {
     "name": "stdout",
     "output_type": "stream",
     "text": [
      "拟合的多项式函数系数---a0-a10---为:[-1.734648713412768, 26.58807024157549, -0.878421713412764, 19.213676362308238, -0.6509711955127766, 14.190117593615396, -0.5770547608072976, 11.043562096538533, -0.5401025654603795, 8.96539475404007, -0.5145829196216161]\n",
      "最小二乘法+求解线性方程组，误差下降为：0.6871528112386605\n"
     ]
    },
    {
     "data": {
      "image/png": "[encoded data removed]",
      "text/plain": [
       "<Figure size 432x288 with 1 Axes>"
      ]
     },
     "metadata": {
      "needs_background": "light"
     },
     "output_type": "display_data"
    }
   ],
   "source": [
    "if __name__ == '__main__':\n",
    "    order =10 # 拟合的多项式项数\n",
    "    xs, ys = init_fx_data()  # 曲线数据\n",
    "    # 数学解法：最小二乘法+求解线性方程组\n",
    "    A = last_square_fit_curve_Gauss(xs=xs, ys=ys, order=order)\n",
    "    # 迭代解法：最小二乘法+梯度下降\n",
    "#     A = last_square_fit_curve_Gradient(xs=xs, ys=ys, order=order, iternum=1000, learn_rate=0.001)\n",
    "    draw_fit_curve(xs=xs, ys=ys, A=A, order=order)  # 可视化多项式曲线拟合结果\n"
   ]
  },
  {
   "cell_type": "code",
   "execution_count": null,
   "metadata": {},
   "outputs": [],
   "source": []
  }
 ],
 "metadata": {
  "kernelspec": {
   "display_name": "Python 3",
   "language": "python",
   "name": "python3"
  },
  "language_info": {
   "codemirror_mode": {
    "name": "ipython",
    "version": 3
   },
   "file_extension": ".py",
   "mimetype": "text/x-python",
   "name": "python",
   "nbconvert_exporter": "python",
   "pygments_lexer": "ipython3",
   "version": "3.7.6"
  }
 },
 "nbformat": 4,
 "nbformat_minor": 4
}
